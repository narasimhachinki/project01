{
 "cells": [
  {
   "cell_type": "code",
   "execution_count": 1,
   "id": "3a419b4d",
   "metadata": {},
   "outputs": [],
   "source": [
    "import nltk\n",
    "from nltk.tokenize import sent_tokenize,word_tokenize"
   ]
  },
  {
   "cell_type": "code",
   "execution_count": 12,
   "id": "74ce5f7b",
   "metadata": {},
   "outputs": [
    {
     "name": "stdout",
     "output_type": "stream",
     "text": [
      "Most of us have probably heard of this story as this is one of the most popular fairy tales in the world. The story revolves around a duckling who from the moment of his birth has always felt different from his siblings. He was always picked on because he didnâ€™t look like the rest of them. One day, he had enough and ran away from the pond he grew up in. He wandered near and far looking for a family who would accept him. Months passed and seasons changed but everywhere he went, nobody wanted him because he was such an ugly duck. Then one day, he came upon a family of swans. Upon looking at them, he realized that during the months he spent looking for a family to call his own, he had grown into a beautiful swan. Now he finally understood why he never looked like the rest of his siblings because he isnâ€™t a duck but a swan.\n",
      "successfull\n"
     ]
    }
   ],
   "source": [
    "#exeptional handling\n",
    "try:\n",
    "    with open(\"C:/Users/naras/OneDrive/Desktop/story_2.txt\") as story:\n",
    "        nm=story.read()\n",
    "        print(nm)\n",
    "        print('successfull')\n",
    "except FileNoteFoundError:\n",
    "    msg='File does not exists'\n",
    "    print(msg)"
   ]
  },
  {
   "cell_type": "code",
   "execution_count": 14,
   "id": "8bfa833a",
   "metadata": {},
   "outputs": [
    {
     "ename": "NameError",
     "evalue": "name 'sent_tokenize' is not defined",
     "output_type": "error",
     "traceback": [
      "\u001b[1;31m---------------------------------------------------------------------------\u001b[0m",
      "\u001b[1;31mNameError\u001b[0m                                 Traceback (most recent call last)",
      "Cell \u001b[1;32mIn[14], line 2\u001b[0m\n\u001b[0;32m      1\u001b[0m \u001b[38;5;66;03m#segmentation\u001b[39;00m\n\u001b[1;32m----> 2\u001b[0m seg\u001b[38;5;241m=\u001b[39msent_tokenize(nm)\n\u001b[0;32m      3\u001b[0m seg\n",
      "\u001b[1;31mNameError\u001b[0m: name 'sent_tokenize' is not defined"
     ]
    }
   ],
   "source": [
    "#segmentation\n",
    "seg=sent_tokenize(nm)\n",
    "seg"
   ]
  },
  {
   "cell_type": "code",
   "execution_count": 4,
   "id": "055c5d37",
   "metadata": {},
   "outputs": [
    {
     "data": {
      "text/plain": [
       "9"
      ]
     },
     "execution_count": 4,
     "metadata": {},
     "output_type": "execute_result"
    }
   ],
   "source": [
    "len(seg)"
   ]
  },
  {
   "cell_type": "code",
   "execution_count": 5,
   "id": "600caead",
   "metadata": {},
   "outputs": [
    {
     "data": {
      "text/plain": [
       "list"
      ]
     },
     "execution_count": 5,
     "metadata": {},
     "output_type": "execute_result"
    }
   ],
   "source": [
    "type(seg)"
   ]
  },
  {
   "cell_type": "code",
   "execution_count": 6,
   "id": "fdfa4bb6",
   "metadata": {},
   "outputs": [
    {
     "data": {
      "text/plain": [
       "['Most',\n",
       " 'of',\n",
       " 'us',\n",
       " 'have',\n",
       " 'probably',\n",
       " 'heard',\n",
       " 'of',\n",
       " 'this',\n",
       " 'story',\n",
       " 'as',\n",
       " 'this',\n",
       " 'is',\n",
       " 'one',\n",
       " 'of',\n",
       " 'the',\n",
       " 'most',\n",
       " 'popular',\n",
       " 'fairy',\n",
       " 'tales',\n",
       " 'in',\n",
       " 'the',\n",
       " 'world',\n",
       " '.',\n",
       " 'The',\n",
       " 'story',\n",
       " 'revolves',\n",
       " 'around',\n",
       " 'a',\n",
       " 'duckling',\n",
       " 'who',\n",
       " 'from',\n",
       " 'the',\n",
       " 'moment',\n",
       " 'of',\n",
       " 'his',\n",
       " 'birth',\n",
       " 'has',\n",
       " 'always',\n",
       " 'felt',\n",
       " 'different',\n",
       " 'from',\n",
       " 'his',\n",
       " 'siblings',\n",
       " '.',\n",
       " 'He',\n",
       " 'was',\n",
       " 'always',\n",
       " 'picked',\n",
       " 'on',\n",
       " 'because',\n",
       " 'he',\n",
       " 'didnâ€™t',\n",
       " 'look',\n",
       " 'like',\n",
       " 'the',\n",
       " 'rest',\n",
       " 'of',\n",
       " 'them',\n",
       " '.',\n",
       " 'One',\n",
       " 'day',\n",
       " ',',\n",
       " 'he',\n",
       " 'had',\n",
       " 'enough',\n",
       " 'and',\n",
       " 'ran',\n",
       " 'away',\n",
       " 'from',\n",
       " 'the',\n",
       " 'pond',\n",
       " 'he',\n",
       " 'grew',\n",
       " 'up',\n",
       " 'in',\n",
       " '.',\n",
       " 'He',\n",
       " 'wandered',\n",
       " 'near',\n",
       " 'and',\n",
       " 'far',\n",
       " 'looking',\n",
       " 'for',\n",
       " 'a',\n",
       " 'family',\n",
       " 'who',\n",
       " 'would',\n",
       " 'accept',\n",
       " 'him',\n",
       " '.',\n",
       " 'Months',\n",
       " 'passed',\n",
       " 'and',\n",
       " 'seasons',\n",
       " 'changed',\n",
       " 'but',\n",
       " 'everywhere',\n",
       " 'he',\n",
       " 'went',\n",
       " ',',\n",
       " 'nobody',\n",
       " 'wanted',\n",
       " 'him',\n",
       " 'because',\n",
       " 'he',\n",
       " 'was',\n",
       " 'such',\n",
       " 'an',\n",
       " 'ugly',\n",
       " 'duck',\n",
       " '.',\n",
       " 'Then',\n",
       " 'one',\n",
       " 'day',\n",
       " ',',\n",
       " 'he',\n",
       " 'came',\n",
       " 'upon',\n",
       " 'a',\n",
       " 'family',\n",
       " 'of',\n",
       " 'swans',\n",
       " '.',\n",
       " 'Upon',\n",
       " 'looking',\n",
       " 'at',\n",
       " 'them',\n",
       " ',',\n",
       " 'he',\n",
       " 'realized',\n",
       " 'that',\n",
       " 'during',\n",
       " 'the',\n",
       " 'months',\n",
       " 'he',\n",
       " 'spent',\n",
       " 'looking',\n",
       " 'for',\n",
       " 'a',\n",
       " 'family',\n",
       " 'to',\n",
       " 'call',\n",
       " 'his',\n",
       " 'own',\n",
       " ',',\n",
       " 'he',\n",
       " 'had',\n",
       " 'grown',\n",
       " 'into',\n",
       " 'a',\n",
       " 'beautiful',\n",
       " 'swan',\n",
       " '.',\n",
       " 'Now',\n",
       " 'he',\n",
       " 'finally',\n",
       " 'understood',\n",
       " 'why',\n",
       " 'he',\n",
       " 'never',\n",
       " 'looked',\n",
       " 'like',\n",
       " 'the',\n",
       " 'rest',\n",
       " 'of',\n",
       " 'his',\n",
       " 'siblings',\n",
       " 'because',\n",
       " 'he',\n",
       " 'isnâ€™t',\n",
       " 'a',\n",
       " 'duck',\n",
       " 'but',\n",
       " 'a',\n",
       " 'swan',\n",
       " '.']"
      ]
     },
     "execution_count": 6,
     "metadata": {},
     "output_type": "execute_result"
    }
   ],
   "source": [
    "word=word_tokenize(nm)\n",
    "word"
   ]
  },
  {
   "cell_type": "code",
   "execution_count": 7,
   "id": "cabb1172",
   "metadata": {},
   "outputs": [
    {
     "data": {
      "text/plain": [
       "176"
      ]
     },
     "execution_count": 7,
     "metadata": {},
     "output_type": "execute_result"
    }
   ],
   "source": [
    "len(word)"
   ]
  },
  {
   "cell_type": "code",
   "execution_count": 8,
   "id": "3c98cc5b",
   "metadata": {},
   "outputs": [
    {
     "data": {
      "text/plain": [
       "list"
      ]
     },
     "execution_count": 8,
     "metadata": {},
     "output_type": "execute_result"
    }
   ],
   "source": [
    "type(word)"
   ]
  },
  {
   "cell_type": "code",
   "execution_count": 11,
   "id": "e032e0ed",
   "metadata": {},
   "outputs": [
    {
     "name": "stdout",
     "output_type": "stream",
     "text": [
      "<FreqDist with 35 samples and 835 outcomes>\n",
      "[(' ', 161), ('e', 72), ('a', 57), ('o', 54), ('h', 47), ('n', 47), ('s', 44), ('t', 39), ('i', 35), ('r', 30), ('d', 30), ('l', 29), ('f', 22), ('u', 21), ('w', 21), ('y', 17), ('m', 15), ('c', 13), ('b', 12), ('g', 12), ('p', 11), ('k', 11), ('.', 9), ('v', 5), (',', 5), ('M', 2), ('T', 2), ('H', 2), ('â', 2), ('€', 2), ('™', 2), ('O', 1), ('U', 1), ('z', 1), ('N', 1)]\n",
      " \n",
      "0.0\n"
     ]
    }
   ],
   "source": [
    "from nltk.probability import FreqDist\n",
    "freq_dist=FreqDist(nm)\n",
    "print(freq_dist)\n",
    "print(freq_dist.most_common())\n",
    "print(freq_dist.max())\n",
    "print(freq_dist.freq('the'))"
   ]
  },
  {
   "cell_type": "code",
   "execution_count": 12,
   "id": "0e0d6278",
   "metadata": {},
   "outputs": [
    {
     "data": {
      "image/png": "[encoded data removed]",
      "text/plain": [
       "<Figure size 640x480 with 1 Axes>"
      ]
     },
     "metadata": {},
     "output_type": "display_data"
    },
    {
     "name": "stdout",
     "output_type": "stream",
     "text": [
      "Axes(0.125,0.11;0.775x0.77)\n"
     ]
    }
   ],
   "source": [
    "print(freq_dist.plot())"
   ]
  },
  {
   "cell_type": "code",
   "execution_count": 13,
   "id": "1c4d968b",
   "metadata": {},
   "outputs": [
    {
     "name": "stdout",
     "output_type": "stream",
     "text": [
      "      e   a   o   h   n   s   t   i   r   d   l   f   u   w   y   m   c   b   g   p   k   .   v   ,   M   T   H   â   €   ™   O   U   z   N \n",
      "161  72  57  54  47  47  44  39  35  30  30  29  22  21  21  17  15  13  12  12  11  11   9   5   5   2   2   2   2   2   2   1   1   1   1 \n",
      "None\n"
     ]
    }
   ],
   "source": [
    "print(freq_dist.tabulate())"
   ]
  },
  {
   "cell_type": "code",
   "execution_count": 14,
   "id": "a440e776",
   "metadata": {},
   "outputs": [
    {
     "name": "stdout",
     "output_type": "stream",
     "text": [
      "dict_values([2, 54, 44, 39, 161, 22, 21, 47, 57, 5, 72, 11, 30, 12, 29, 17, 30, 35, 47, 15, 21, 9, 2, 13, 11, 12, 2, 2, 2, 2, 1, 5, 1, 1, 1])\n"
     ]
    }
   ],
   "source": [
    "print(freq_dist.values())"
   ]
  },
  {
   "cell_type": "markdown",
   "id": "90478ad9",
   "metadata": {},
   "source": [
    "# remove stopwords"
   ]
  },
  {
   "cell_type": "code",
   "execution_count": 4,
   "id": "5f2e6867",
   "metadata": {},
   "outputs": [],
   "source": [
    "from nltk.tokenize import word_tokenize"
   ]
  },
  {
   "cell_type": "code",
   "execution_count": 7,
   "id": "d7fa8af3",
   "metadata": {},
   "outputs": [
    {
     "ename": "NameError",
     "evalue": "name 'nm' is not defined",
     "output_type": "error",
     "traceback": [
      "\u001b[1;31m---------------------------------------------------------------------------\u001b[0m",
      "\u001b[1;31mNameError\u001b[0m                                 Traceback (most recent call last)",
      "Cell \u001b[1;32mIn[7], line 4\u001b[0m\n\u001b[0;32m      2\u001b[0m \u001b[38;5;28;01mimport\u001b[39;00m \u001b[38;5;21;01mstring\u001b[39;00m\n\u001b[0;32m      3\u001b[0m \u001b[38;5;28;01mfor\u001b[39;00m punc \u001b[38;5;129;01min\u001b[39;00m string\u001b[38;5;241m.\u001b[39mpunctuation:\n\u001b[1;32m----> 4\u001b[0m     nml\u001b[38;5;241m=\u001b[39mnm\u001b[38;5;241m.\u001b[39mreplace(punc,\u001b[38;5;124m'\u001b[39m\u001b[38;5;124m'\u001b[39m)\n\u001b[0;32m      5\u001b[0m     \u001b[38;5;28mprint\u001b[39m(nml)\n",
      "\u001b[1;31mNameError\u001b[0m: name 'nm' is not defined"
     ]
    }
   ],
   "source": [
    "#remove the puctuantion in list\n",
    "import string\n",
    "for punc in string.punctuation:\n",
    "    nml=nm.replace(punc,'')\n",
    "    print(nml)"
   ]
  },
  {
   "cell_type": "code",
   "execution_count": 15,
   "id": "4e3e5115",
   "metadata": {},
   "outputs": [
    {
     "data": {
      "text/plain": [
       "['Most of us have probably heard of this story as this is one of the most popular fairy tales in the world.',\n",
       " 'The story revolves around a duckling who from the moment of his birth has always felt different from his siblings.',\n",
       " 'He was always picked on because he didnâ€™t look like the rest of them.',\n",
       " 'One day, he had enough and ran away from the pond he grew up in.',\n",
       " 'He wandered near and far looking for a family who would accept him.',\n",
       " 'Months passed and seasons changed but everywhere he went, nobody wanted him because he was such an ugly duck.',\n",
       " 'Then one day, he came upon a family of swans.',\n",
       " 'Upon looking at them, he realized that during the months he spent looking for a family to call his own, he had grown into a beautiful swan.',\n",
       " 'Now he finally understood why he never looked like the rest of his siblings because he isnâ€™t a duck but a swan.']"
      ]
     },
     "execution_count": 15,
     "metadata": {},
     "output_type": "execute_result"
    }
   ],
   "source": [
    "sen=sent_tokenize(nm)\n",
    "sen"
   ]
  },
  {
   "cell_type": "code",
   "execution_count": 17,
   "id": "1883bc53",
   "metadata": {},
   "outputs": [
    {
     "data": {
      "text/plain": [
       "['Most',\n",
       " 'of',\n",
       " 'us',\n",
       " 'have',\n",
       " 'probably',\n",
       " 'heard',\n",
       " 'of',\n",
       " 'this',\n",
       " 'story',\n",
       " 'as',\n",
       " 'this',\n",
       " 'is',\n",
       " 'one',\n",
       " 'of',\n",
       " 'the',\n",
       " 'most',\n",
       " 'popular',\n",
       " 'fairy',\n",
       " 'tales',\n",
       " 'in',\n",
       " 'the',\n",
       " 'world',\n",
       " '.',\n",
       " 'The',\n",
       " 'story',\n",
       " 'revolves',\n",
       " 'around',\n",
       " 'a',\n",
       " 'duckling',\n",
       " 'who',\n",
       " 'from',\n",
       " 'the',\n",
       " 'moment',\n",
       " 'of',\n",
       " 'his',\n",
       " 'birth',\n",
       " 'has',\n",
       " 'always',\n",
       " 'felt',\n",
       " 'different',\n",
       " 'from',\n",
       " 'his',\n",
       " 'siblings',\n",
       " '.',\n",
       " 'He',\n",
       " 'was',\n",
       " 'always',\n",
       " 'picked',\n",
       " 'on',\n",
       " 'because',\n",
       " 'he',\n",
       " 'didnâ€™t',\n",
       " 'look',\n",
       " 'like',\n",
       " 'the',\n",
       " 'rest',\n",
       " 'of',\n",
       " 'them',\n",
       " '.',\n",
       " 'One',\n",
       " 'day',\n",
       " ',',\n",
       " 'he',\n",
       " 'had',\n",
       " 'enough',\n",
       " 'and',\n",
       " 'ran',\n",
       " 'away',\n",
       " 'from',\n",
       " 'the',\n",
       " 'pond',\n",
       " 'he',\n",
       " 'grew',\n",
       " 'up',\n",
       " 'in',\n",
       " '.',\n",
       " 'He',\n",
       " 'wandered',\n",
       " 'near',\n",
       " 'and',\n",
       " 'far',\n",
       " 'looking',\n",
       " 'for',\n",
       " 'a',\n",
       " 'family',\n",
       " 'who',\n",
       " 'would',\n",
       " 'accept',\n",
       " 'him',\n",
       " '.',\n",
       " 'Months',\n",
       " 'passed',\n",
       " 'and',\n",
       " 'seasons',\n",
       " 'changed',\n",
       " 'but',\n",
       " 'everywhere',\n",
       " 'he',\n",
       " 'went',\n",
       " ',',\n",
       " 'nobody',\n",
       " 'wanted',\n",
       " 'him',\n",
       " 'because',\n",
       " 'he',\n",
       " 'was',\n",
       " 'such',\n",
       " 'an',\n",
       " 'ugly',\n",
       " 'duck',\n",
       " '.',\n",
       " 'Then',\n",
       " 'one',\n",
       " 'day',\n",
       " ',',\n",
       " 'he',\n",
       " 'came',\n",
       " 'upon',\n",
       " 'a',\n",
       " 'family',\n",
       " 'of',\n",
       " 'swans',\n",
       " '.',\n",
       " 'Upon',\n",
       " 'looking',\n",
       " 'at',\n",
       " 'them',\n",
       " ',',\n",
       " 'he',\n",
       " 'realized',\n",
       " 'that',\n",
       " 'during',\n",
       " 'the',\n",
       " 'months',\n",
       " 'he',\n",
       " 'spent',\n",
       " 'looking',\n",
       " 'for',\n",
       " 'a',\n",
       " 'family',\n",
       " 'to',\n",
       " 'call',\n",
       " 'his',\n",
       " 'own',\n",
       " ',',\n",
       " 'he',\n",
       " 'had',\n",
       " 'grown',\n",
       " 'into',\n",
       " 'a',\n",
       " 'beautiful',\n",
       " 'swan',\n",
       " '.',\n",
       " 'Now',\n",
       " 'he',\n",
       " 'finally',\n",
       " 'understood',\n",
       " 'why',\n",
       " 'he',\n",
       " 'never',\n",
       " 'looked',\n",
       " 'like',\n",
       " 'the',\n",
       " 'rest',\n",
       " 'of',\n",
       " 'his',\n",
       " 'siblings',\n",
       " 'because',\n",
       " 'he',\n",
       " 'isnâ€™t',\n",
       " 'a',\n",
       " 'duck',\n",
       " 'but',\n",
       " 'a',\n",
       " 'swan',\n",
       " '.']"
      ]
     },
     "execution_count": 17,
     "metadata": {},
     "output_type": "execute_result"
    }
   ],
   "source": [
    "#then make a notenize \n",
    "word_list=word_tokenize(nm)\n",
    "word_list"
   ]
  },
  {
   "cell_type": "code",
   "execution_count": 39,
   "id": "a06d2686",
   "metadata": {},
   "outputs": [
    {
     "name": "stdout",
     "output_type": "stream",
     "text": [
      "['us']\n",
      "['us', 'probably']\n",
      "['us', 'probably', 'heard']\n",
      "['us', 'probably', 'heard', 'story']\n",
      "['us', 'probably', 'heard', 'story', 'one']\n",
      "['us', 'probably', 'heard', 'story', 'one', 'popular']\n",
      "['us', 'probably', 'heard', 'story', 'one', 'popular', 'fairy']\n",
      "['us', 'probably', 'heard', 'story', 'one', 'popular', 'fairy', 'tales']\n",
      "['us', 'probably', 'heard', 'story', 'one', 'popular', 'fairy', 'tales', 'world']\n",
      "['us', 'probably', 'heard', 'story', 'one', 'popular', 'fairy', 'tales', 'world', '.']\n",
      "['us', 'probably', 'heard', 'story', 'one', 'popular', 'fairy', 'tales', 'world', '.', 'story']\n",
      "['us', 'probably', 'heard', 'story', 'one', 'popular', 'fairy', 'tales', 'world', '.', 'story', 'revolves']\n",
      "['us', 'probably', 'heard', 'story', 'one', 'popular', 'fairy', 'tales', 'world', '.', 'story', 'revolves', 'around']\n",
      "['us', 'probably', 'heard', 'story', 'one', 'popular', 'fairy', 'tales', 'world', '.', 'story', 'revolves', 'around', 'duckling']\n",
      "['us', 'probably', 'heard', 'story', 'one', 'popular', 'fairy', 'tales', 'world', '.', 'story', 'revolves', 'around', 'duckling', 'moment']\n",
      "['us', 'probably', 'heard', 'story', 'one', 'popular', 'fairy', 'tales', 'world', '.', 'story', 'revolves', 'around', 'duckling', 'moment', 'birth']\n",
      "['us', 'probably', 'heard', 'story', 'one', 'popular', 'fairy', 'tales', 'world', '.', 'story', 'revolves', 'around', 'duckling', 'moment', 'birth', 'always']\n",
      "['us', 'probably', 'heard', 'story', 'one', 'popular', 'fairy', 'tales', 'world', '.', 'story', 'revolves', 'around', 'duckling', 'moment', 'birth', 'always', 'felt']\n",
      "['us', 'probably', 'heard', 'story', 'one', 'popular', 'fairy', 'tales', 'world', '.', 'story', 'revolves', 'around', 'duckling', 'moment', 'birth', 'always', 'felt', 'different']\n",
      "['us', 'probably', 'heard', 'story', 'one', 'popular', 'fairy', 'tales', 'world', '.', 'story', 'revolves', 'around', 'duckling', 'moment', 'birth', 'always', 'felt', 'different', 'siblings']\n",
      "['us', 'probably', 'heard', 'story', 'one', 'popular', 'fairy', 'tales', 'world', '.', 'story', 'revolves', 'around', 'duckling', 'moment', 'birth', 'always', 'felt', 'different', 'siblings', '.']\n",
      "['us', 'probably', 'heard', 'story', 'one', 'popular', 'fairy', 'tales', 'world', '.', 'story', 'revolves', 'around', 'duckling', 'moment', 'birth', 'always', 'felt', 'different', 'siblings', '.', 'always']\n",
      "['us', 'probably', 'heard', 'story', 'one', 'popular', 'fairy', 'tales', 'world', '.', 'story', 'revolves', 'around', 'duckling', 'moment', 'birth', 'always', 'felt', 'different', 'siblings', '.', 'always', 'picked']\n",
      "['us', 'probably', 'heard', 'story', 'one', 'popular', 'fairy', 'tales', 'world', '.', 'story', 'revolves', 'around', 'duckling', 'moment', 'birth', 'always', 'felt', 'different', 'siblings', '.', 'always', 'picked', 'didnâ€™t']\n",
      "['us', 'probably', 'heard', 'story', 'one', 'popular', 'fairy', 'tales', 'world', '.', 'story', 'revolves', 'around', 'duckling', 'moment', 'birth', 'always', 'felt', 'different', 'siblings', '.', 'always', 'picked', 'didnâ€™t', 'look']\n",
      "['us', 'probably', 'heard', 'story', 'one', 'popular', 'fairy', 'tales', 'world', '.', 'story', 'revolves', 'around', 'duckling', 'moment', 'birth', 'always', 'felt', 'different', 'siblings', '.', 'always', 'picked', 'didnâ€™t', 'look', 'like']\n",
      "['us', 'probably', 'heard', 'story', 'one', 'popular', 'fairy', 'tales', 'world', '.', 'story', 'revolves', 'around', 'duckling', 'moment', 'birth', 'always', 'felt', 'different', 'siblings', '.', 'always', 'picked', 'didnâ€™t', 'look', 'like', 'rest']\n",
      "['us', 'probably', 'heard', 'story', 'one', 'popular', 'fairy', 'tales', 'world', '.', 'story', 'revolves', 'around', 'duckling', 'moment', 'birth', 'always', 'felt', 'different', 'siblings', '.', 'always', 'picked', 'didnâ€™t', 'look', 'like', 'rest', '.']\n",
      "['us', 'probably', 'heard', 'story', 'one', 'popular', 'fairy', 'tales', 'world', '.', 'story', 'revolves', 'around', 'duckling', 'moment', 'birth', 'always', 'felt', 'different', 'siblings', '.', 'always', 'picked', 'didnâ€™t', 'look', 'like', 'rest', '.', 'One']\n",
      "['us', 'probably', 'heard', 'story', 'one', 'popular', 'fairy', 'tales', 'world', '.', 'story', 'revolves', 'around', 'duckling', 'moment', 'birth', 'always', 'felt', 'different', 'siblings', '.', 'always', 'picked', 'didnâ€™t', 'look', 'like', 'rest', '.', 'One', 'day']\n",
      "['us', 'probably', 'heard', 'story', 'one', 'popular', 'fairy', 'tales', 'world', '.', 'story', 'revolves', 'around', 'duckling', 'moment', 'birth', 'always', 'felt', 'different', 'siblings', '.', 'always', 'picked', 'didnâ€™t', 'look', 'like', 'rest', '.', 'One', 'day', ',']\n",
      "['us', 'probably', 'heard', 'story', 'one', 'popular', 'fairy', 'tales', 'world', '.', 'story', 'revolves', 'around', 'duckling', 'moment', 'birth', 'always', 'felt', 'different', 'siblings', '.', 'always', 'picked', 'didnâ€™t', 'look', 'like', 'rest', '.', 'One', 'day', ',', 'enough']\n",
      "['us', 'probably', 'heard', 'story', 'one', 'popular', 'fairy', 'tales', 'world', '.', 'story', 'revolves', 'around', 'duckling', 'moment', 'birth', 'always', 'felt', 'different', 'siblings', '.', 'always', 'picked', 'didnâ€™t', 'look', 'like', 'rest', '.', 'One', 'day', ',', 'enough', 'ran']\n",
      "['us', 'probably', 'heard', 'story', 'one', 'popular', 'fairy', 'tales', 'world', '.', 'story', 'revolves', 'around', 'duckling', 'moment', 'birth', 'always', 'felt', 'different', 'siblings', '.', 'always', 'picked', 'didnâ€™t', 'look', 'like', 'rest', '.', 'One', 'day', ',', 'enough', 'ran', 'away']\n",
      "['us', 'probably', 'heard', 'story', 'one', 'popular', 'fairy', 'tales', 'world', '.', 'story', 'revolves', 'around', 'duckling', 'moment', 'birth', 'always', 'felt', 'different', 'siblings', '.', 'always', 'picked', 'didnâ€™t', 'look', 'like', 'rest', '.', 'One', 'day', ',', 'enough', 'ran', 'away', 'pond']\n",
      "['us', 'probably', 'heard', 'story', 'one', 'popular', 'fairy', 'tales', 'world', '.', 'story', 'revolves', 'around', 'duckling', 'moment', 'birth', 'always', 'felt', 'different', 'siblings', '.', 'always', 'picked', 'didnâ€™t', 'look', 'like', 'rest', '.', 'One', 'day', ',', 'enough', 'ran', 'away', 'pond', 'grew']\n",
      "['us', 'probably', 'heard', 'story', 'one', 'popular', 'fairy', 'tales', 'world', '.', 'story', 'revolves', 'around', 'duckling', 'moment', 'birth', 'always', 'felt', 'different', 'siblings', '.', 'always', 'picked', 'didnâ€™t', 'look', 'like', 'rest', '.', 'One', 'day', ',', 'enough', 'ran', 'away', 'pond', 'grew', '.']\n",
      "['us', 'probably', 'heard', 'story', 'one', 'popular', 'fairy', 'tales', 'world', '.', 'story', 'revolves', 'around', 'duckling', 'moment', 'birth', 'always', 'felt', 'different', 'siblings', '.', 'always', 'picked', 'didnâ€™t', 'look', 'like', 'rest', '.', 'One', 'day', ',', 'enough', 'ran', 'away', 'pond', 'grew', '.', 'wandered']\n",
      "['us', 'probably', 'heard', 'story', 'one', 'popular', 'fairy', 'tales', 'world', '.', 'story', 'revolves', 'around', 'duckling', 'moment', 'birth', 'always', 'felt', 'different', 'siblings', '.', 'always', 'picked', 'didnâ€™t', 'look', 'like', 'rest', '.', 'One', 'day', ',', 'enough', 'ran', 'away', 'pond', 'grew', '.', 'wandered', 'near']\n",
      "['us', 'probably', 'heard', 'story', 'one', 'popular', 'fairy', 'tales', 'world', '.', 'story', 'revolves', 'around', 'duckling', 'moment', 'birth', 'always', 'felt', 'different', 'siblings', '.', 'always', 'picked', 'didnâ€™t', 'look', 'like', 'rest', '.', 'One', 'day', ',', 'enough', 'ran', 'away', 'pond', 'grew', '.', 'wandered', 'near', 'far']\n",
      "['us', 'probably', 'heard', 'story', 'one', 'popular', 'fairy', 'tales', 'world', '.', 'story', 'revolves', 'around', 'duckling', 'moment', 'birth', 'always', 'felt', 'different', 'siblings', '.', 'always', 'picked', 'didnâ€™t', 'look', 'like', 'rest', '.', 'One', 'day', ',', 'enough', 'ran', 'away', 'pond', 'grew', '.', 'wandered', 'near', 'far', 'looking']\n",
      "['us', 'probably', 'heard', 'story', 'one', 'popular', 'fairy', 'tales', 'world', '.', 'story', 'revolves', 'around', 'duckling', 'moment', 'birth', 'always', 'felt', 'different', 'siblings', '.', 'always', 'picked', 'didnâ€™t', 'look', 'like', 'rest', '.', 'One', 'day', ',', 'enough', 'ran', 'away', 'pond', 'grew', '.', 'wandered', 'near', 'far', 'looking', 'family']\n",
      "['us', 'probably', 'heard', 'story', 'one', 'popular', 'fairy', 'tales', 'world', '.', 'story', 'revolves', 'around', 'duckling', 'moment', 'birth', 'always', 'felt', 'different', 'siblings', '.', 'always', 'picked', 'didnâ€™t', 'look', 'like', 'rest', '.', 'One', 'day', ',', 'enough', 'ran', 'away', 'pond', 'grew', '.', 'wandered', 'near', 'far', 'looking', 'family', 'would']\n",
      "['us', 'probably', 'heard', 'story', 'one', 'popular', 'fairy', 'tales', 'world', '.', 'story', 'revolves', 'around', 'duckling', 'moment', 'birth', 'always', 'felt', 'different', 'siblings', '.', 'always', 'picked', 'didnâ€™t', 'look', 'like', 'rest', '.', 'One', 'day', ',', 'enough', 'ran', 'away', 'pond', 'grew', '.', 'wandered', 'near', 'far', 'looking', 'family', 'would', 'accept']\n",
      "['us', 'probably', 'heard', 'story', 'one', 'popular', 'fairy', 'tales', 'world', '.', 'story', 'revolves', 'around', 'duckling', 'moment', 'birth', 'always', 'felt', 'different', 'siblings', '.', 'always', 'picked', 'didnâ€™t', 'look', 'like', 'rest', '.', 'One', 'day', ',', 'enough', 'ran', 'away', 'pond', 'grew', '.', 'wandered', 'near', 'far', 'looking', 'family', 'would', 'accept', '.']\n",
      "['us', 'probably', 'heard', 'story', 'one', 'popular', 'fairy', 'tales', 'world', '.', 'story', 'revolves', 'around', 'duckling', 'moment', 'birth', 'always', 'felt', 'different', 'siblings', '.', 'always', 'picked', 'didnâ€™t', 'look', 'like', 'rest', '.', 'One', 'day', ',', 'enough', 'ran', 'away', 'pond', 'grew', '.', 'wandered', 'near', 'far', 'looking', 'family', 'would', 'accept', '.', 'Months']\n",
      "['us', 'probably', 'heard', 'story', 'one', 'popular', 'fairy', 'tales', 'world', '.', 'story', 'revolves', 'around', 'duckling', 'moment', 'birth', 'always', 'felt', 'different', 'siblings', '.', 'always', 'picked', 'didnâ€™t', 'look', 'like', 'rest', '.', 'One', 'day', ',', 'enough', 'ran', 'away', 'pond', 'grew', '.', 'wandered', 'near', 'far', 'looking', 'family', 'would', 'accept', '.', 'Months', 'passed']\n",
      "['us', 'probably', 'heard', 'story', 'one', 'popular', 'fairy', 'tales', 'world', '.', 'story', 'revolves', 'around', 'duckling', 'moment', 'birth', 'always', 'felt', 'different', 'siblings', '.', 'always', 'picked', 'didnâ€™t', 'look', 'like', 'rest', '.', 'One', 'day', ',', 'enough', 'ran', 'away', 'pond', 'grew', '.', 'wandered', 'near', 'far', 'looking', 'family', 'would', 'accept', '.', 'Months', 'passed', 'seasons']\n",
      "['us', 'probably', 'heard', 'story', 'one', 'popular', 'fairy', 'tales', 'world', '.', 'story', 'revolves', 'around', 'duckling', 'moment', 'birth', 'always', 'felt', 'different', 'siblings', '.', 'always', 'picked', 'didnâ€™t', 'look', 'like', 'rest', '.', 'One', 'day', ',', 'enough', 'ran', 'away', 'pond', 'grew', '.', 'wandered', 'near', 'far', 'looking', 'family', 'would', 'accept', '.', 'Months', 'passed', 'seasons', 'changed']\n",
      "['us', 'probably', 'heard', 'story', 'one', 'popular', 'fairy', 'tales', 'world', '.', 'story', 'revolves', 'around', 'duckling', 'moment', 'birth', 'always', 'felt', 'different', 'siblings', '.', 'always', 'picked', 'didnâ€™t', 'look', 'like', 'rest', '.', 'One', 'day', ',', 'enough', 'ran', 'away', 'pond', 'grew', '.', 'wandered', 'near', 'far', 'looking', 'family', 'would', 'accept', '.', 'Months', 'passed', 'seasons', 'changed', 'everywhere']\n",
      "['us', 'probably', 'heard', 'story', 'one', 'popular', 'fairy', 'tales', 'world', '.', 'story', 'revolves', 'around', 'duckling', 'moment', 'birth', 'always', 'felt', 'different', 'siblings', '.', 'always', 'picked', 'didnâ€™t', 'look', 'like', 'rest', '.', 'One', 'day', ',', 'enough', 'ran', 'away', 'pond', 'grew', '.', 'wandered', 'near', 'far', 'looking', 'family', 'would', 'accept', '.', 'Months', 'passed', 'seasons', 'changed', 'everywhere', 'went']\n",
      "['us', 'probably', 'heard', 'story', 'one', 'popular', 'fairy', 'tales', 'world', '.', 'story', 'revolves', 'around', 'duckling', 'moment', 'birth', 'always', 'felt', 'different', 'siblings', '.', 'always', 'picked', 'didnâ€™t', 'look', 'like', 'rest', '.', 'One', 'day', ',', 'enough', 'ran', 'away', 'pond', 'grew', '.', 'wandered', 'near', 'far', 'looking', 'family', 'would', 'accept', '.', 'Months', 'passed', 'seasons', 'changed', 'everywhere', 'went', ',']\n",
      "['us', 'probably', 'heard', 'story', 'one', 'popular', 'fairy', 'tales', 'world', '.', 'story', 'revolves', 'around', 'duckling', 'moment', 'birth', 'always', 'felt', 'different', 'siblings', '.', 'always', 'picked', 'didnâ€™t', 'look', 'like', 'rest', '.', 'One', 'day', ',', 'enough', 'ran', 'away', 'pond', 'grew', '.', 'wandered', 'near', 'far', 'looking', 'family', 'would', 'accept', '.', 'Months', 'passed', 'seasons', 'changed', 'everywhere', 'went', ',', 'nobody']\n",
      "['us', 'probably', 'heard', 'story', 'one', 'popular', 'fairy', 'tales', 'world', '.', 'story', 'revolves', 'around', 'duckling', 'moment', 'birth', 'always', 'felt', 'different', 'siblings', '.', 'always', 'picked', 'didnâ€™t', 'look', 'like', 'rest', '.', 'One', 'day', ',', 'enough', 'ran', 'away', 'pond', 'grew', '.', 'wandered', 'near', 'far', 'looking', 'family', 'would', 'accept', '.', 'Months', 'passed', 'seasons', 'changed', 'everywhere', 'went', ',', 'nobody', 'wanted']\n",
      "['us', 'probably', 'heard', 'story', 'one', 'popular', 'fairy', 'tales', 'world', '.', 'story', 'revolves', 'around', 'duckling', 'moment', 'birth', 'always', 'felt', 'different', 'siblings', '.', 'always', 'picked', 'didnâ€™t', 'look', 'like', 'rest', '.', 'One', 'day', ',', 'enough', 'ran', 'away', 'pond', 'grew', '.', 'wandered', 'near', 'far', 'looking', 'family', 'would', 'accept', '.', 'Months', 'passed', 'seasons', 'changed', 'everywhere', 'went', ',', 'nobody', 'wanted', 'ugly']\n",
      "['us', 'probably', 'heard', 'story', 'one', 'popular', 'fairy', 'tales', 'world', '.', 'story', 'revolves', 'around', 'duckling', 'moment', 'birth', 'always', 'felt', 'different', 'siblings', '.', 'always', 'picked', 'didnâ€™t', 'look', 'like', 'rest', '.', 'One', 'day', ',', 'enough', 'ran', 'away', 'pond', 'grew', '.', 'wandered', 'near', 'far', 'looking', 'family', 'would', 'accept', '.', 'Months', 'passed', 'seasons', 'changed', 'everywhere', 'went', ',', 'nobody', 'wanted', 'ugly', 'duck']\n",
      "['us', 'probably', 'heard', 'story', 'one', 'popular', 'fairy', 'tales', 'world', '.', 'story', 'revolves', 'around', 'duckling', 'moment', 'birth', 'always', 'felt', 'different', 'siblings', '.', 'always', 'picked', 'didnâ€™t', 'look', 'like', 'rest', '.', 'One', 'day', ',', 'enough', 'ran', 'away', 'pond', 'grew', '.', 'wandered', 'near', 'far', 'looking', 'family', 'would', 'accept', '.', 'Months', 'passed', 'seasons', 'changed', 'everywhere', 'went', ',', 'nobody', 'wanted', 'ugly', 'duck', '.']\n",
      "['us', 'probably', 'heard', 'story', 'one', 'popular', 'fairy', 'tales', 'world', '.', 'story', 'revolves', 'around', 'duckling', 'moment', 'birth', 'always', 'felt', 'different', 'siblings', '.', 'always', 'picked', 'didnâ€™t', 'look', 'like', 'rest', '.', 'One', 'day', ',', 'enough', 'ran', 'away', 'pond', 'grew', '.', 'wandered', 'near', 'far', 'looking', 'family', 'would', 'accept', '.', 'Months', 'passed', 'seasons', 'changed', 'everywhere', 'went', ',', 'nobody', 'wanted', 'ugly', 'duck', '.', 'one']\n",
      "['us', 'probably', 'heard', 'story', 'one', 'popular', 'fairy', 'tales', 'world', '.', 'story', 'revolves', 'around', 'duckling', 'moment', 'birth', 'always', 'felt', 'different', 'siblings', '.', 'always', 'picked', 'didnâ€™t', 'look', 'like', 'rest', '.', 'One', 'day', ',', 'enough', 'ran', 'away', 'pond', 'grew', '.', 'wandered', 'near', 'far', 'looking', 'family', 'would', 'accept', '.', 'Months', 'passed', 'seasons', 'changed', 'everywhere', 'went', ',', 'nobody', 'wanted', 'ugly', 'duck', '.', 'one', 'day']\n",
      "['us', 'probably', 'heard', 'story', 'one', 'popular', 'fairy', 'tales', 'world', '.', 'story', 'revolves', 'around', 'duckling', 'moment', 'birth', 'always', 'felt', 'different', 'siblings', '.', 'always', 'picked', 'didnâ€™t', 'look', 'like', 'rest', '.', 'One', 'day', ',', 'enough', 'ran', 'away', 'pond', 'grew', '.', 'wandered', 'near', 'far', 'looking', 'family', 'would', 'accept', '.', 'Months', 'passed', 'seasons', 'changed', 'everywhere', 'went', ',', 'nobody', 'wanted', 'ugly', 'duck', '.', 'one', 'day', ',']\n",
      "['us', 'probably', 'heard', 'story', 'one', 'popular', 'fairy', 'tales', 'world', '.', 'story', 'revolves', 'around', 'duckling', 'moment', 'birth', 'always', 'felt', 'different', 'siblings', '.', 'always', 'picked', 'didnâ€™t', 'look', 'like', 'rest', '.', 'One', 'day', ',', 'enough', 'ran', 'away', 'pond', 'grew', '.', 'wandered', 'near', 'far', 'looking', 'family', 'would', 'accept', '.', 'Months', 'passed', 'seasons', 'changed', 'everywhere', 'went', ',', 'nobody', 'wanted', 'ugly', 'duck', '.', 'one', 'day', ',', 'came']\n",
      "['us', 'probably', 'heard', 'story', 'one', 'popular', 'fairy', 'tales', 'world', '.', 'story', 'revolves', 'around', 'duckling', 'moment', 'birth', 'always', 'felt', 'different', 'siblings', '.', 'always', 'picked', 'didnâ€™t', 'look', 'like', 'rest', '.', 'One', 'day', ',', 'enough', 'ran', 'away', 'pond', 'grew', '.', 'wandered', 'near', 'far', 'looking', 'family', 'would', 'accept', '.', 'Months', 'passed', 'seasons', 'changed', 'everywhere', 'went', ',', 'nobody', 'wanted', 'ugly', 'duck', '.', 'one', 'day', ',', 'came', 'upon']\n",
      "['us', 'probably', 'heard', 'story', 'one', 'popular', 'fairy', 'tales', 'world', '.', 'story', 'revolves', 'around', 'duckling', 'moment', 'birth', 'always', 'felt', 'different', 'siblings', '.', 'always', 'picked', 'didnâ€™t', 'look', 'like', 'rest', '.', 'One', 'day', ',', 'enough', 'ran', 'away', 'pond', 'grew', '.', 'wandered', 'near', 'far', 'looking', 'family', 'would', 'accept', '.', 'Months', 'passed', 'seasons', 'changed', 'everywhere', 'went', ',', 'nobody', 'wanted', 'ugly', 'duck', '.', 'one', 'day', ',', 'came', 'upon', 'family']\n",
      "['us', 'probably', 'heard', 'story', 'one', 'popular', 'fairy', 'tales', 'world', '.', 'story', 'revolves', 'around', 'duckling', 'moment', 'birth', 'always', 'felt', 'different', 'siblings', '.', 'always', 'picked', 'didnâ€™t', 'look', 'like', 'rest', '.', 'One', 'day', ',', 'enough', 'ran', 'away', 'pond', 'grew', '.', 'wandered', 'near', 'far', 'looking', 'family', 'would', 'accept', '.', 'Months', 'passed', 'seasons', 'changed', 'everywhere', 'went', ',', 'nobody', 'wanted', 'ugly', 'duck', '.', 'one', 'day', ',', 'came', 'upon', 'family', 'swans']\n",
      "['us', 'probably', 'heard', 'story', 'one', 'popular', 'fairy', 'tales', 'world', '.', 'story', 'revolves', 'around', 'duckling', 'moment', 'birth', 'always', 'felt', 'different', 'siblings', '.', 'always', 'picked', 'didnâ€™t', 'look', 'like', 'rest', '.', 'One', 'day', ',', 'enough', 'ran', 'away', 'pond', 'grew', '.', 'wandered', 'near', 'far', 'looking', 'family', 'would', 'accept', '.', 'Months', 'passed', 'seasons', 'changed', 'everywhere', 'went', ',', 'nobody', 'wanted', 'ugly', 'duck', '.', 'one', 'day', ',', 'came', 'upon', 'family', 'swans', '.']\n",
      "['us', 'probably', 'heard', 'story', 'one', 'popular', 'fairy', 'tales', 'world', '.', 'story', 'revolves', 'around', 'duckling', 'moment', 'birth', 'always', 'felt', 'different', 'siblings', '.', 'always', 'picked', 'didnâ€™t', 'look', 'like', 'rest', '.', 'One', 'day', ',', 'enough', 'ran', 'away', 'pond', 'grew', '.', 'wandered', 'near', 'far', 'looking', 'family', 'would', 'accept', '.', 'Months', 'passed', 'seasons', 'changed', 'everywhere', 'went', ',', 'nobody', 'wanted', 'ugly', 'duck', '.', 'one', 'day', ',', 'came', 'upon', 'family', 'swans', '.', 'Upon']\n",
      "['us', 'probably', 'heard', 'story', 'one', 'popular', 'fairy', 'tales', 'world', '.', 'story', 'revolves', 'around', 'duckling', 'moment', 'birth', 'always', 'felt', 'different', 'siblings', '.', 'always', 'picked', 'didnâ€™t', 'look', 'like', 'rest', '.', 'One', 'day', ',', 'enough', 'ran', 'away', 'pond', 'grew', '.', 'wandered', 'near', 'far', 'looking', 'family', 'would', 'accept', '.', 'Months', 'passed', 'seasons', 'changed', 'everywhere', 'went', ',', 'nobody', 'wanted', 'ugly', 'duck', '.', 'one', 'day', ',', 'came', 'upon', 'family', 'swans', '.', 'Upon', 'looking']\n",
      "['us', 'probably', 'heard', 'story', 'one', 'popular', 'fairy', 'tales', 'world', '.', 'story', 'revolves', 'around', 'duckling', 'moment', 'birth', 'always', 'felt', 'different', 'siblings', '.', 'always', 'picked', 'didnâ€™t', 'look', 'like', 'rest', '.', 'One', 'day', ',', 'enough', 'ran', 'away', 'pond', 'grew', '.', 'wandered', 'near', 'far', 'looking', 'family', 'would', 'accept', '.', 'Months', 'passed', 'seasons', 'changed', 'everywhere', 'went', ',', 'nobody', 'wanted', 'ugly', 'duck', '.', 'one', 'day', ',', 'came', 'upon', 'family', 'swans', '.', 'Upon', 'looking', ',']\n",
      "['us', 'probably', 'heard', 'story', 'one', 'popular', 'fairy', 'tales', 'world', '.', 'story', 'revolves', 'around', 'duckling', 'moment', 'birth', 'always', 'felt', 'different', 'siblings', '.', 'always', 'picked', 'didnâ€™t', 'look', 'like', 'rest', '.', 'One', 'day', ',', 'enough', 'ran', 'away', 'pond', 'grew', '.', 'wandered', 'near', 'far', 'looking', 'family', 'would', 'accept', '.', 'Months', 'passed', 'seasons', 'changed', 'everywhere', 'went', ',', 'nobody', 'wanted', 'ugly', 'duck', '.', 'one', 'day', ',', 'came', 'upon', 'family', 'swans', '.', 'Upon', 'looking', ',', 'realized']\n",
      "['us', 'probably', 'heard', 'story', 'one', 'popular', 'fairy', 'tales', 'world', '.', 'story', 'revolves', 'around', 'duckling', 'moment', 'birth', 'always', 'felt', 'different', 'siblings', '.', 'always', 'picked', 'didnâ€™t', 'look', 'like', 'rest', '.', 'One', 'day', ',', 'enough', 'ran', 'away', 'pond', 'grew', '.', 'wandered', 'near', 'far', 'looking', 'family', 'would', 'accept', '.', 'Months', 'passed', 'seasons', 'changed', 'everywhere', 'went', ',', 'nobody', 'wanted', 'ugly', 'duck', '.', 'one', 'day', ',', 'came', 'upon', 'family', 'swans', '.', 'Upon', 'looking', ',', 'realized', 'months']\n",
      "['us', 'probably', 'heard', 'story', 'one', 'popular', 'fairy', 'tales', 'world', '.', 'story', 'revolves', 'around', 'duckling', 'moment', 'birth', 'always', 'felt', 'different', 'siblings', '.', 'always', 'picked', 'didnâ€™t', 'look', 'like', 'rest', '.', 'One', 'day', ',', 'enough', 'ran', 'away', 'pond', 'grew', '.', 'wandered', 'near', 'far', 'looking', 'family', 'would', 'accept', '.', 'Months', 'passed', 'seasons', 'changed', 'everywhere', 'went', ',', 'nobody', 'wanted', 'ugly', 'duck', '.', 'one', 'day', ',', 'came', 'upon', 'family', 'swans', '.', 'Upon', 'looking', ',', 'realized', 'months', 'spent']\n",
      "['us', 'probably', 'heard', 'story', 'one', 'popular', 'fairy', 'tales', 'world', '.', 'story', 'revolves', 'around', 'duckling', 'moment', 'birth', 'always', 'felt', 'different', 'siblings', '.', 'always', 'picked', 'didnâ€™t', 'look', 'like', 'rest', '.', 'One', 'day', ',', 'enough', 'ran', 'away', 'pond', 'grew', '.', 'wandered', 'near', 'far', 'looking', 'family', 'would', 'accept', '.', 'Months', 'passed', 'seasons', 'changed', 'everywhere', 'went', ',', 'nobody', 'wanted', 'ugly', 'duck', '.', 'one', 'day', ',', 'came', 'upon', 'family', 'swans', '.', 'Upon', 'looking', ',', 'realized', 'months', 'spent', 'looking']\n",
      "['us', 'probably', 'heard', 'story', 'one', 'popular', 'fairy', 'tales', 'world', '.', 'story', 'revolves', 'around', 'duckling', 'moment', 'birth', 'always', 'felt', 'different', 'siblings', '.', 'always', 'picked', 'didnâ€™t', 'look', 'like', 'rest', '.', 'One', 'day', ',', 'enough', 'ran', 'away', 'pond', 'grew', '.', 'wandered', 'near', 'far', 'looking', 'family', 'would', 'accept', '.', 'Months', 'passed', 'seasons', 'changed', 'everywhere', 'went', ',', 'nobody', 'wanted', 'ugly', 'duck', '.', 'one', 'day', ',', 'came', 'upon', 'family', 'swans', '.', 'Upon', 'looking', ',', 'realized', 'months', 'spent', 'looking', 'family']\n",
      "['us', 'probably', 'heard', 'story', 'one', 'popular', 'fairy', 'tales', 'world', '.', 'story', 'revolves', 'around', 'duckling', 'moment', 'birth', 'always', 'felt', 'different', 'siblings', '.', 'always', 'picked', 'didnâ€™t', 'look', 'like', 'rest', '.', 'One', 'day', ',', 'enough', 'ran', 'away', 'pond', 'grew', '.', 'wandered', 'near', 'far', 'looking', 'family', 'would', 'accept', '.', 'Months', 'passed', 'seasons', 'changed', 'everywhere', 'went', ',', 'nobody', 'wanted', 'ugly', 'duck', '.', 'one', 'day', ',', 'came', 'upon', 'family', 'swans', '.', 'Upon', 'looking', ',', 'realized', 'months', 'spent', 'looking', 'family', 'call']\n",
      "['us', 'probably', 'heard', 'story', 'one', 'popular', 'fairy', 'tales', 'world', '.', 'story', 'revolves', 'around', 'duckling', 'moment', 'birth', 'always', 'felt', 'different', 'siblings', '.', 'always', 'picked', 'didnâ€™t', 'look', 'like', 'rest', '.', 'One', 'day', ',', 'enough', 'ran', 'away', 'pond', 'grew', '.', 'wandered', 'near', 'far', 'looking', 'family', 'would', 'accept', '.', 'Months', 'passed', 'seasons', 'changed', 'everywhere', 'went', ',', 'nobody', 'wanted', 'ugly', 'duck', '.', 'one', 'day', ',', 'came', 'upon', 'family', 'swans', '.', 'Upon', 'looking', ',', 'realized', 'months', 'spent', 'looking', 'family', 'call', ',']\n",
      "['us', 'probably', 'heard', 'story', 'one', 'popular', 'fairy', 'tales', 'world', '.', 'story', 'revolves', 'around', 'duckling', 'moment', 'birth', 'always', 'felt', 'different', 'siblings', '.', 'always', 'picked', 'didnâ€™t', 'look', 'like', 'rest', '.', 'One', 'day', ',', 'enough', 'ran', 'away', 'pond', 'grew', '.', 'wandered', 'near', 'far', 'looking', 'family', 'would', 'accept', '.', 'Months', 'passed', 'seasons', 'changed', 'everywhere', 'went', ',', 'nobody', 'wanted', 'ugly', 'duck', '.', 'one', 'day', ',', 'came', 'upon', 'family', 'swans', '.', 'Upon', 'looking', ',', 'realized', 'months', 'spent', 'looking', 'family', 'call', ',', 'grown']\n",
      "['us', 'probably', 'heard', 'story', 'one', 'popular', 'fairy', 'tales', 'world', '.', 'story', 'revolves', 'around', 'duckling', 'moment', 'birth', 'always', 'felt', 'different', 'siblings', '.', 'always', 'picked', 'didnâ€™t', 'look', 'like', 'rest', '.', 'One', 'day', ',', 'enough', 'ran', 'away', 'pond', 'grew', '.', 'wandered', 'near', 'far', 'looking', 'family', 'would', 'accept', '.', 'Months', 'passed', 'seasons', 'changed', 'everywhere', 'went', ',', 'nobody', 'wanted', 'ugly', 'duck', '.', 'one', 'day', ',', 'came', 'upon', 'family', 'swans', '.', 'Upon', 'looking', ',', 'realized', 'months', 'spent', 'looking', 'family', 'call', ',', 'grown', 'beautiful']\n",
      "['us', 'probably', 'heard', 'story', 'one', 'popular', 'fairy', 'tales', 'world', '.', 'story', 'revolves', 'around', 'duckling', 'moment', 'birth', 'always', 'felt', 'different', 'siblings', '.', 'always', 'picked', 'didnâ€™t', 'look', 'like', 'rest', '.', 'One', 'day', ',', 'enough', 'ran', 'away', 'pond', 'grew', '.', 'wandered', 'near', 'far', 'looking', 'family', 'would', 'accept', '.', 'Months', 'passed', 'seasons', 'changed', 'everywhere', 'went', ',', 'nobody', 'wanted', 'ugly', 'duck', '.', 'one', 'day', ',', 'came', 'upon', 'family', 'swans', '.', 'Upon', 'looking', ',', 'realized', 'months', 'spent', 'looking', 'family', 'call', ',', 'grown', 'beautiful', 'swan']\n",
      "['us', 'probably', 'heard', 'story', 'one', 'popular', 'fairy', 'tales', 'world', '.', 'story', 'revolves', 'around', 'duckling', 'moment', 'birth', 'always', 'felt', 'different', 'siblings', '.', 'always', 'picked', 'didnâ€™t', 'look', 'like', 'rest', '.', 'One', 'day', ',', 'enough', 'ran', 'away', 'pond', 'grew', '.', 'wandered', 'near', 'far', 'looking', 'family', 'would', 'accept', '.', 'Months', 'passed', 'seasons', 'changed', 'everywhere', 'went', ',', 'nobody', 'wanted', 'ugly', 'duck', '.', 'one', 'day', ',', 'came', 'upon', 'family', 'swans', '.', 'Upon', 'looking', ',', 'realized', 'months', 'spent', 'looking', 'family', 'call', ',', 'grown', 'beautiful', 'swan', '.']\n",
      "['us', 'probably', 'heard', 'story', 'one', 'popular', 'fairy', 'tales', 'world', '.', 'story', 'revolves', 'around', 'duckling', 'moment', 'birth', 'always', 'felt', 'different', 'siblings', '.', 'always', 'picked', 'didnâ€™t', 'look', 'like', 'rest', '.', 'One', 'day', ',', 'enough', 'ran', 'away', 'pond', 'grew', '.', 'wandered', 'near', 'far', 'looking', 'family', 'would', 'accept', '.', 'Months', 'passed', 'seasons', 'changed', 'everywhere', 'went', ',', 'nobody', 'wanted', 'ugly', 'duck', '.', 'one', 'day', ',', 'came', 'upon', 'family', 'swans', '.', 'Upon', 'looking', ',', 'realized', 'months', 'spent', 'looking', 'family', 'call', ',', 'grown', 'beautiful', 'swan', '.', 'finally']\n",
      "['us', 'probably', 'heard', 'story', 'one', 'popular', 'fairy', 'tales', 'world', '.', 'story', 'revolves', 'around', 'duckling', 'moment', 'birth', 'always', 'felt', 'different', 'siblings', '.', 'always', 'picked', 'didnâ€™t', 'look', 'like', 'rest', '.', 'One', 'day', ',', 'enough', 'ran', 'away', 'pond', 'grew', '.', 'wandered', 'near', 'far', 'looking', 'family', 'would', 'accept', '.', 'Months', 'passed', 'seasons', 'changed', 'everywhere', 'went', ',', 'nobody', 'wanted', 'ugly', 'duck', '.', 'one', 'day', ',', 'came', 'upon', 'family', 'swans', '.', 'Upon', 'looking', ',', 'realized', 'months', 'spent', 'looking', 'family', 'call', ',', 'grown', 'beautiful', 'swan', '.', 'finally', 'understood']\n",
      "['us', 'probably', 'heard', 'story', 'one', 'popular', 'fairy', 'tales', 'world', '.', 'story', 'revolves', 'around', 'duckling', 'moment', 'birth', 'always', 'felt', 'different', 'siblings', '.', 'always', 'picked', 'didnâ€™t', 'look', 'like', 'rest', '.', 'One', 'day', ',', 'enough', 'ran', 'away', 'pond', 'grew', '.', 'wandered', 'near', 'far', 'looking', 'family', 'would', 'accept', '.', 'Months', 'passed', 'seasons', 'changed', 'everywhere', 'went', ',', 'nobody', 'wanted', 'ugly', 'duck', '.', 'one', 'day', ',', 'came', 'upon', 'family', 'swans', '.', 'Upon', 'looking', ',', 'realized', 'months', 'spent', 'looking', 'family', 'call', ',', 'grown', 'beautiful', 'swan', '.', 'finally', 'understood', 'never']\n",
      "['us', 'probably', 'heard', 'story', 'one', 'popular', 'fairy', 'tales', 'world', '.', 'story', 'revolves', 'around', 'duckling', 'moment', 'birth', 'always', 'felt', 'different', 'siblings', '.', 'always', 'picked', 'didnâ€™t', 'look', 'like', 'rest', '.', 'One', 'day', ',', 'enough', 'ran', 'away', 'pond', 'grew', '.', 'wandered', 'near', 'far', 'looking', 'family', 'would', 'accept', '.', 'Months', 'passed', 'seasons', 'changed', 'everywhere', 'went', ',', 'nobody', 'wanted', 'ugly', 'duck', '.', 'one', 'day', ',', 'came', 'upon', 'family', 'swans', '.', 'Upon', 'looking', ',', 'realized', 'months', 'spent', 'looking', 'family', 'call', ',', 'grown', 'beautiful', 'swan', '.', 'finally', 'understood', 'never', 'looked']\n",
      "['us', 'probably', 'heard', 'story', 'one', 'popular', 'fairy', 'tales', 'world', '.', 'story', 'revolves', 'around', 'duckling', 'moment', 'birth', 'always', 'felt', 'different', 'siblings', '.', 'always', 'picked', 'didnâ€™t', 'look', 'like', 'rest', '.', 'One', 'day', ',', 'enough', 'ran', 'away', 'pond', 'grew', '.', 'wandered', 'near', 'far', 'looking', 'family', 'would', 'accept', '.', 'Months', 'passed', 'seasons', 'changed', 'everywhere', 'went', ',', 'nobody', 'wanted', 'ugly', 'duck', '.', 'one', 'day', ',', 'came', 'upon', 'family', 'swans', '.', 'Upon', 'looking', ',', 'realized', 'months', 'spent', 'looking', 'family', 'call', ',', 'grown', 'beautiful', 'swan', '.', 'finally', 'understood', 'never', 'looked', 'like']\n",
      "['us', 'probably', 'heard', 'story', 'one', 'popular', 'fairy', 'tales', 'world', '.', 'story', 'revolves', 'around', 'duckling', 'moment', 'birth', 'always', 'felt', 'different', 'siblings', '.', 'always', 'picked', 'didnâ€™t', 'look', 'like', 'rest', '.', 'One', 'day', ',', 'enough', 'ran', 'away', 'pond', 'grew', '.', 'wandered', 'near', 'far', 'looking', 'family', 'would', 'accept', '.', 'Months', 'passed', 'seasons', 'changed', 'everywhere', 'went', ',', 'nobody', 'wanted', 'ugly', 'duck', '.', 'one', 'day', ',', 'came', 'upon', 'family', 'swans', '.', 'Upon', 'looking', ',', 'realized', 'months', 'spent', 'looking', 'family', 'call', ',', 'grown', 'beautiful', 'swan', '.', 'finally', 'understood', 'never', 'looked', 'like', 'rest']\n",
      "['us', 'probably', 'heard', 'story', 'one', 'popular', 'fairy', 'tales', 'world', '.', 'story', 'revolves', 'around', 'duckling', 'moment', 'birth', 'always', 'felt', 'different', 'siblings', '.', 'always', 'picked', 'didnâ€™t', 'look', 'like', 'rest', '.', 'One', 'day', ',', 'enough', 'ran', 'away', 'pond', 'grew', '.', 'wandered', 'near', 'far', 'looking', 'family', 'would', 'accept', '.', 'Months', 'passed', 'seasons', 'changed', 'everywhere', 'went', ',', 'nobody', 'wanted', 'ugly', 'duck', '.', 'one', 'day', ',', 'came', 'upon', 'family', 'swans', '.', 'Upon', 'looking', ',', 'realized', 'months', 'spent', 'looking', 'family', 'call', ',', 'grown', 'beautiful', 'swan', '.', 'finally', 'understood', 'never', 'looked', 'like', 'rest', 'siblings']\n",
      "['us', 'probably', 'heard', 'story', 'one', 'popular', 'fairy', 'tales', 'world', '.', 'story', 'revolves', 'around', 'duckling', 'moment', 'birth', 'always', 'felt', 'different', 'siblings', '.', 'always', 'picked', 'didnâ€™t', 'look', 'like', 'rest', '.', 'One', 'day', ',', 'enough', 'ran', 'away', 'pond', 'grew', '.', 'wandered', 'near', 'far', 'looking', 'family', 'would', 'accept', '.', 'Months', 'passed', 'seasons', 'changed', 'everywhere', 'went', ',', 'nobody', 'wanted', 'ugly', 'duck', '.', 'one', 'day', ',', 'came', 'upon', 'family', 'swans', '.', 'Upon', 'looking', ',', 'realized', 'months', 'spent', 'looking', 'family', 'call', ',', 'grown', 'beautiful', 'swan', '.', 'finally', 'understood', 'never', 'looked', 'like', 'rest', 'siblings', 'isnâ€™t']\n",
      "['us', 'probably', 'heard', 'story', 'one', 'popular', 'fairy', 'tales', 'world', '.', 'story', 'revolves', 'around', 'duckling', 'moment', 'birth', 'always', 'felt', 'different', 'siblings', '.', 'always', 'picked', 'didnâ€™t', 'look', 'like', 'rest', '.', 'One', 'day', ',', 'enough', 'ran', 'away', 'pond', 'grew', '.', 'wandered', 'near', 'far', 'looking', 'family', 'would', 'accept', '.', 'Months', 'passed', 'seasons', 'changed', 'everywhere', 'went', ',', 'nobody', 'wanted', 'ugly', 'duck', '.', 'one', 'day', ',', 'came', 'upon', 'family', 'swans', '.', 'Upon', 'looking', ',', 'realized', 'months', 'spent', 'looking', 'family', 'call', ',', 'grown', 'beautiful', 'swan', '.', 'finally', 'understood', 'never', 'looked', 'like', 'rest', 'siblings', 'isnâ€™t', 'duck']\n",
      "['us', 'probably', 'heard', 'story', 'one', 'popular', 'fairy', 'tales', 'world', '.', 'story', 'revolves', 'around', 'duckling', 'moment', 'birth', 'always', 'felt', 'different', 'siblings', '.', 'always', 'picked', 'didnâ€™t', 'look', 'like', 'rest', '.', 'One', 'day', ',', 'enough', 'ran', 'away', 'pond', 'grew', '.', 'wandered', 'near', 'far', 'looking', 'family', 'would', 'accept', '.', 'Months', 'passed', 'seasons', 'changed', 'everywhere', 'went', ',', 'nobody', 'wanted', 'ugly', 'duck', '.', 'one', 'day', ',', 'came', 'upon', 'family', 'swans', '.', 'Upon', 'looking', ',', 'realized', 'months', 'spent', 'looking', 'family', 'call', ',', 'grown', 'beautiful', 'swan', '.', 'finally', 'understood', 'never', 'looked', 'like', 'rest', 'siblings', 'isnâ€™t', 'duck', 'swan']\n",
      "['us', 'probably', 'heard', 'story', 'one', 'popular', 'fairy', 'tales', 'world', '.', 'story', 'revolves', 'around', 'duckling', 'moment', 'birth', 'always', 'felt', 'different', 'siblings', '.', 'always', 'picked', 'didnâ€™t', 'look', 'like', 'rest', '.', 'One', 'day', ',', 'enough', 'ran', 'away', 'pond', 'grew', '.', 'wandered', 'near', 'far', 'looking', 'family', 'would', 'accept', '.', 'Months', 'passed', 'seasons', 'changed', 'everywhere', 'went', ',', 'nobody', 'wanted', 'ugly', 'duck', '.', 'one', 'day', ',', 'came', 'upon', 'family', 'swans', '.', 'Upon', 'looking', ',', 'realized', 'months', 'spent', 'looking', 'family', 'call', ',', 'grown', 'beautiful', 'swan', '.', 'finally', 'understood', 'never', 'looked', 'like', 'rest', 'siblings', 'isnâ€™t', 'duck', 'swan', '.']\n"
     ]
    }
   ],
   "source": [
    "#removing the stop words \n",
    "from nltk.corpus import stopwords\n",
    "stop_words=set(stopwords.words('english'))\n",
    "clean_words=[]\n",
    "for word in word_list:\n",
    "    if word.lower() not in stop_words:\n",
    "        clean_words.append(word)\n",
    "        print(clean_words)"
   ]
  },
  {
   "cell_type": "code",
   "execution_count": 42,
   "id": "317067cf",
   "metadata": {},
   "outputs": [
    {
     "name": "stdout",
     "output_type": "stream",
     "text": [
      "176\n",
      "90\n"
     ]
    }
   ],
   "source": [
    "print(len(word_list))\n",
    "print(len(clean_words))"
   ]
  },
  {
   "cell_type": "code",
   "execution_count": 45,
   "id": "5a49c67d",
   "metadata": {},
   "outputs": [],
   "source": [
    "#stemming\n",
    "from nltk.stem.porter import PorterStemmer\n",
    "from nltk.stem.lancaster import LancasterStemmer\n",
    "from nltk.stem.snowball import SnowballStemmer"
   ]
  },
  {
   "cell_type": "code",
   "execution_count": 46,
   "id": "3c378d45",
   "metadata": {},
   "outputs": [
    {
     "name": "stdout",
     "output_type": "stream",
     "text": [
      "Stemming with PorterStemmer\n",
      "['us', 'probabl', 'heard', 'stori', 'one', 'popular', 'fairi', 'tale', 'world', '.', 'stori', 'revolv', 'around', 'duckl', 'moment', 'birth', 'alway', 'felt', 'differ', 'sibl', '.', 'alway', 'pick', 'didnâ€™t', 'look', 'like', 'rest', '.', 'one', 'day', ',', 'enough', 'ran', 'away', 'pond', 'grew', '.', 'wander', 'near', 'far', 'look', 'famili', 'would', 'accept', '.', 'month', 'pass', 'season', 'chang', 'everywher', 'went', ',', 'nobodi', 'want', 'ugli', 'duck', '.', 'one', 'day', ',', 'came', 'upon', 'famili', 'swan', '.', 'upon', 'look', ',', 'realiz', 'month', 'spent', 'look', 'famili', 'call', ',', 'grown', 'beauti', 'swan', '.', 'final', 'understood', 'never', 'look', 'like', 'rest', 'sibl', 'isnâ€™t', 'duck', 'swan', '.']\n"
     ]
    }
   ],
   "source": [
    "stemmed=[PorterStemmer().stem(w) for w in clean_words]\n",
    "print('Stemming with PorterStemmer')\n",
    "print(stemmed)"
   ]
  },
  {
   "cell_type": "code",
   "execution_count": 47,
   "id": "134b5920",
   "metadata": {},
   "outputs": [
    {
     "name": "stdout",
     "output_type": "stream",
     "text": [
      "Stemming with LancasterStemmer\n",
      "['us', 'prob', 'heard', 'story', 'on', 'popul', 'fairy', 'tal', 'world', '.', 'story', 'revolv', 'around', 'duckl', 'mom', 'bir', 'alway', 'felt', 'diff', 'sibl', '.', 'alway', 'pick', 'didnâ€™t', 'look', 'lik', 'rest', '.', 'on', 'day', ',', 'enough', 'ran', 'away', 'pond', 'grew', '.', 'wand', 'near', 'far', 'look', 'famy', 'would', 'acceiv', '.', 'month', 'pass', 'season', 'chang', 'everywh', 'went', ',', 'nobody', 'want', 'ug', 'duck', '.', 'on', 'day', ',', 'cam', 'upon', 'famy', 'swan', '.', 'upon', 'look', ',', 'real', 'month', 'spent', 'look', 'famy', 'cal', ',', 'grown', 'beauty', 'swan', '.', 'fin', 'understood', 'nev', 'look', 'lik', 'rest', 'sibl', 'isnâ€™t', 'duck', 'swan', '.']\n"
     ]
    }
   ],
   "source": [
    "stemmed=[LancasterStemmer().stem(w) for w in clean_words]\n",
    "print('Stemming with LancasterStemmer')\n",
    "print(stemmed)"
   ]
  },
  {
   "cell_type": "code",
   "execution_count": 49,
   "id": "be8f0bec",
   "metadata": {},
   "outputs": [
    {
     "name": "stdout",
     "output_type": "stream",
     "text": [
      "Stemming with SnowballStemmer\n",
      "['us', 'probabl', 'heard', 'stori', 'one', 'popular', 'fairi', 'tale', 'world', '.', 'stori', 'revolv', 'around', 'duckl', 'moment', 'birth', 'alway', 'felt', 'differ', 'sibl', '.', 'alway', 'pick', 'didnâ€™t', 'look', 'like', 'rest', '.', 'one', 'day', ',', 'enough', 'ran', 'away', 'pond', 'grew', '.', 'wander', 'near', 'far', 'look', 'famili', 'would', 'accept', '.', 'month', 'pass', 'season', 'chang', 'everywher', 'went', ',', 'nobodi', 'want', 'ugli', 'duck', '.', 'one', 'day', ',', 'came', 'upon', 'famili', 'swan', '.', 'upon', 'look', ',', 'realiz', 'month', 'spent', 'look', 'famili', 'call', ',', 'grown', 'beauti', 'swan', '.', 'final', 'understood', 'never', 'look', 'like', 'rest', 'sibl', 'isnâ€™t', 'duck', 'swan', '.']\n"
     ]
    }
   ],
   "source": [
    "stemmed=[SnowballStemmer('english').stem(w) for w in clean_words]\n",
    "print('Stemming with SnowballStemmer')\n",
    "print(stemmed)"
   ]
  },
  {
   "cell_type": "code",
   "execution_count": 50,
   "id": "1d46c849",
   "metadata": {},
   "outputs": [
    {
     "name": "stderr",
     "output_type": "stream",
     "text": [
      "[nltk_data] Downloading package wordnet to\n",
      "[nltk_data]     C:\\Users\\naras\\AppData\\Roaming\\nltk_data...\n",
      "[nltk_data]   Package wordnet is already up-to-date!\n"
     ]
    },
    {
     "data": {
      "text/plain": [
       "True"
      ]
     },
     "execution_count": 50,
     "metadata": {},
     "output_type": "execute_result"
    }
   ],
   "source": [
    "import nltk\n",
    "nltk.download('wordnet')"
   ]
  },
  {
   "cell_type": "code",
   "execution_count": 54,
   "id": "4d66fcf7",
   "metadata": {},
   "outputs": [
    {
     "name": "stdout",
     "output_type": "stream",
     "text": [
      "['u', 'probably', 'heard', 'story', 'one', 'popular', 'fairy', 'tale', 'world', '.', 'story', 'revolves', 'around', 'duckling', 'moment', 'birth', 'always', 'felt', 'different', 'sibling', '.', 'always', 'picked', 'didnâ€™t', 'look', 'like', 'rest', '.', 'One', 'day', ',', 'enough', 'ran', 'away', 'pond', 'grew', '.', 'wandered', 'near', 'far', 'looking', 'family', 'would', 'accept', '.', 'Months', 'passed', 'season', 'changed', 'everywhere', 'went', ',', 'nobody', 'wanted', 'ugly', 'duck', '.', 'one', 'day', ',', 'came', 'upon', 'family', 'swan', '.', 'Upon', 'looking', ',', 'realized', 'month', 'spent', 'looking', 'family', 'call', ',', 'grown', 'beautiful', 'swan', '.', 'finally', 'understood', 'never', 'looked', 'like', 'rest', 'sibling', 'isnâ€™t', 'duck', 'swan', '.']\n"
     ]
    }
   ],
   "source": [
    "from nltk.stem.wordnet import WordNetLemmatizer\n",
    "lemmed=[WordNetLemmatizer().lemmatize(w) for w in clean_words]\n",
    "print(lemmed)"
   ]
  },
  {
   "cell_type": "code",
   "execution_count": 2,
   "id": "4a948132",
   "metadata": {},
   "outputs": [
    {
     "ename": "NameError",
     "evalue": "name 'nltk' is not defined",
     "output_type": "error",
     "traceback": [
      "\u001b[1;31m---------------------------------------------------------------------------\u001b[0m",
      "\u001b[1;31mNameError\u001b[0m                                 Traceback (most recent call last)",
      "Cell \u001b[1;32mIn[2], line 1\u001b[0m\n\u001b[1;32m----> 1\u001b[0m nltk\u001b[38;5;241m.\u001b[39mdownload(\u001b[38;5;124m'\u001b[39m\u001b[38;5;124maveraged_perceptron_tagger\u001b[39m\u001b[38;5;124m'\u001b[39m)\n",
      "\u001b[1;31mNameError\u001b[0m: name 'nltk' is not defined"
     ]
    }
   ],
   "source": [
    "nltk.download('averaged_perceptron_tagger')"
   ]
  },
  {
   "cell_type": "code",
   "execution_count": 3,
   "id": "ea84d371",
   "metadata": {},
   "outputs": [
    {
     "ename": "NameError",
     "evalue": "name 'clean_words' is not defined",
     "output_type": "error",
     "traceback": [
      "\u001b[1;31m---------------------------------------------------------------------------\u001b[0m",
      "\u001b[1;31mNameError\u001b[0m                                 Traceback (most recent call last)",
      "Cell \u001b[1;32mIn[3], line 3\u001b[0m\n\u001b[0;32m      1\u001b[0m \u001b[38;5;66;03m#parts of tagging\u001b[39;00m\n\u001b[0;32m      2\u001b[0m \u001b[38;5;28;01mimport\u001b[39;00m \u001b[38;5;21;01mnltk\u001b[39;00m\n\u001b[1;32m----> 3\u001b[0m nltk\u001b[38;5;241m.\u001b[39mpos_tag(clean_words)\n",
      "\u001b[1;31mNameError\u001b[0m: name 'clean_words' is not defined"
     ]
    }
   ],
   "source": [
    "#parts of tagging\n",
    "import nltk\n",
    "nltk.pos_tag(clean_words)"
   ]
  },
  {
   "cell_type": "code",
   "execution_count": null,
   "id": "26fd0e0b",
   "metadata": {},
   "outputs": [],
   "source": []
  }
 ],
 "metadata": {
  "kernelspec": {
   "display_name": "Python 3 (ipykernel)",
   "language": "python",
   "name": "python3"
  },
  "language_info": {
   "codemirror_mode": {
    "name": "ipython",
    "version": 3
   },
   "file_extension": ".py",
   "mimetype": "text/x-python",
   "name": "python",
   "nbconvert_exporter": "python",
   "pygments_lexer": "ipython3",
   "version": "3.11.4"
  }
 },
 "nbformat": 4,
 "nbformat_minor": 5
}
