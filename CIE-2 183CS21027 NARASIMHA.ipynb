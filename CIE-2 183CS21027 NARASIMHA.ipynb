{
 "cells": [
  {
   "cell_type": "code",
   "execution_count": 3,
   "id": "ac8a794e",
   "metadata": {},
   "outputs": [],
   "source": [
    "import numpy as np\n",
    "import pandas as pd\n",
    "import matplotlib.pyplot as plt\n",
    "import seaborn as sns"
   ]
  },
  {
   "cell_type": "code",
   "execution_count": 5,
   "id": "34bede90",
   "metadata": {},
   "outputs": [
    {
     "data": {
      "text/html": [
       "<div>\n",
       "<style scoped>\n",
       "    .dataframe tbody tr th:only-of-type {\n",
       "        vertical-align: middle;\n",
       "    }\n",
       "\n",
       "    .dataframe tbody tr th {\n",
       "        vertical-align: top;\n",
       "    }\n",
       "\n",
       "    .dataframe thead th {\n",
       "        text-align: right;\n",
       "    }\n",
       "</style>\n",
       "<table border=\"1\" class=\"dataframe\">\n",
       "  <thead>\n",
       "    <tr style=\"text-align: right;\">\n",
       "      <th></th>\n",
       "      <th>Hex</th>\n",
       "      <th>Rank</th>\n",
       "      <th>Emoji</th>\n",
       "      <th>Year</th>\n",
       "      <th>Category</th>\n",
       "      <th>Subcategory</th>\n",
       "      <th>Name</th>\n",
       "    </tr>\n",
       "  </thead>\n",
       "  <tbody>\n",
       "    <tr>\n",
       "      <th>0</th>\n",
       "      <td>\\x{1F602}</td>\n",
       "      <td>1</td>\n",
       "      <td>😂</td>\n",
       "      <td>2010</td>\n",
       "      <td>Smileys &amp; Emotion</td>\n",
       "      <td>face-smiling</td>\n",
       "      <td>face with tears of joy</td>\n",
       "    </tr>\n",
       "    <tr>\n",
       "      <th>1</th>\n",
       "      <td>\\x{2764 FE0F}</td>\n",
       "      <td>2</td>\n",
       "      <td>❤️</td>\n",
       "      <td>2010</td>\n",
       "      <td>Smileys &amp; Emotion</td>\n",
       "      <td>emotion</td>\n",
       "      <td>red heart</td>\n",
       "    </tr>\n",
       "    <tr>\n",
       "      <th>2</th>\n",
       "      <td>\\x{1F923}</td>\n",
       "      <td>3</td>\n",
       "      <td>🤣</td>\n",
       "      <td>2016</td>\n",
       "      <td>Smileys &amp; Emotion</td>\n",
       "      <td>face-smiling</td>\n",
       "      <td>rolling on the floor laughing</td>\n",
       "    </tr>\n",
       "    <tr>\n",
       "      <th>3</th>\n",
       "      <td>\\x{1F44D}</td>\n",
       "      <td>4</td>\n",
       "      <td>👍</td>\n",
       "      <td>2010</td>\n",
       "      <td>People &amp; Body</td>\n",
       "      <td>hand-fingers-closed</td>\n",
       "      <td>thumbs up</td>\n",
       "    </tr>\n",
       "    <tr>\n",
       "      <th>4</th>\n",
       "      <td>\\x{1F62D}</td>\n",
       "      <td>5</td>\n",
       "      <td>😭</td>\n",
       "      <td>2010</td>\n",
       "      <td>Smileys &amp; Emotion</td>\n",
       "      <td>face-concerned</td>\n",
       "      <td>loudly crying face</td>\n",
       "    </tr>\n",
       "    <tr>\n",
       "      <th>...</th>\n",
       "      <td>...</td>\n",
       "      <td>...</td>\n",
       "      <td>...</td>\n",
       "      <td>...</td>\n",
       "      <td>...</td>\n",
       "      <td>...</td>\n",
       "      <td>...</td>\n",
       "    </tr>\n",
       "    <tr>\n",
       "      <th>1544</th>\n",
       "      <td>\\x{1F1F3 1F1F7}</td>\n",
       "      <td>1545</td>\n",
       "      <td>🇳🇷</td>\n",
       "      <td>2015</td>\n",
       "      <td>Flags</td>\n",
       "      <td>country-flag</td>\n",
       "      <td>flag: Nauru</td>\n",
       "    </tr>\n",
       "    <tr>\n",
       "      <th>1545</th>\n",
       "      <td>\\x{1F1F2 1F1F6}</td>\n",
       "      <td>1546</td>\n",
       "      <td>🇲🇶</td>\n",
       "      <td>2015</td>\n",
       "      <td>Flags</td>\n",
       "      <td>country-flag</td>\n",
       "      <td>flag: Martinique</td>\n",
       "    </tr>\n",
       "    <tr>\n",
       "      <th>1546</th>\n",
       "      <td>\\x{1F1EC 1F1F5}</td>\n",
       "      <td>1547</td>\n",
       "      <td>🇬🇵</td>\n",
       "      <td>2015</td>\n",
       "      <td>Flags</td>\n",
       "      <td>country-flag</td>\n",
       "      <td>flag: Guadeloupe</td>\n",
       "    </tr>\n",
       "    <tr>\n",
       "      <th>1547</th>\n",
       "      <td>\\x{1F9B2}</td>\n",
       "      <td>1548</td>\n",
       "      <td>🦲</td>\n",
       "      <td>2018</td>\n",
       "      <td>Component</td>\n",
       "      <td>hair-style</td>\n",
       "      <td>bald</td>\n",
       "    </tr>\n",
       "    <tr>\n",
       "      <th>1548</th>\n",
       "      <td>\\x{1F9B3}</td>\n",
       "      <td>1549</td>\n",
       "      <td>🦳</td>\n",
       "      <td>2018</td>\n",
       "      <td>Component</td>\n",
       "      <td>hair-style</td>\n",
       "      <td>white hair</td>\n",
       "    </tr>\n",
       "  </tbody>\n",
       "</table>\n",
       "<p>1549 rows × 7 columns</p>\n",
       "</div>"
      ],
      "text/plain": [
       "                  Hex  Rank Emoji  Year           Category  \\\n",
       "0           \\x{1F602}     1     😂  2010  Smileys & Emotion   \n",
       "1       \\x{2764 FE0F}     2    ❤️  2010  Smileys & Emotion   \n",
       "2           \\x{1F923}     3     🤣  2016  Smileys & Emotion   \n",
       "3           \\x{1F44D}     4     👍  2010      People & Body   \n",
       "4           \\x{1F62D}     5     😭  2010  Smileys & Emotion   \n",
       "...               ...   ...   ...   ...                ...   \n",
       "1544  \\x{1F1F3 1F1F7}  1545    🇳🇷  2015              Flags   \n",
       "1545  \\x{1F1F2 1F1F6}  1546    🇲🇶  2015              Flags   \n",
       "1546  \\x{1F1EC 1F1F5}  1547    🇬🇵  2015              Flags   \n",
       "1547        \\x{1F9B2}  1548     🦲  2018          Component   \n",
       "1548        \\x{1F9B3}  1549     🦳  2018          Component   \n",
       "\n",
       "              Subcategory                           Name  \n",
       "0            face-smiling         face with tears of joy  \n",
       "1                 emotion                      red heart  \n",
       "2            face-smiling  rolling on the floor laughing  \n",
       "3     hand-fingers-closed                      thumbs up  \n",
       "4          face-concerned             loudly crying face  \n",
       "...                   ...                            ...  \n",
       "1544         country-flag                    flag: Nauru  \n",
       "1545         country-flag               flag: Martinique  \n",
       "1546         country-flag               flag: Guadeloupe  \n",
       "1547           hair-style                           bald  \n",
       "1548           hair-style                     white hair  \n",
       "\n",
       "[1549 rows x 7 columns]"
      ]
     },
     "execution_count": 5,
     "metadata": {},
     "output_type": "execute_result"
    }
   ],
   "source": [
    "nc=pd.read_csv(\"C:/Users/naras/OneDrive/Desktop/emojis.csv\")\n",
    "nc"
   ]
  },
  {
   "cell_type": "code",
   "execution_count": 6,
   "id": "f5f98a9e",
   "metadata": {},
   "outputs": [
    {
     "data": {
      "text/html": [
       "<div>\n",
       "<style scoped>\n",
       "    .dataframe tbody tr th:only-of-type {\n",
       "        vertical-align: middle;\n",
       "    }\n",
       "\n",
       "    .dataframe tbody tr th {\n",
       "        vertical-align: top;\n",
       "    }\n",
       "\n",
       "    .dataframe thead th {\n",
       "        text-align: right;\n",
       "    }\n",
       "</style>\n",
       "<table border=\"1\" class=\"dataframe\">\n",
       "  <thead>\n",
       "    <tr style=\"text-align: right;\">\n",
       "      <th></th>\n",
       "      <th>Hex</th>\n",
       "      <th>Rank</th>\n",
       "      <th>Emoji</th>\n",
       "      <th>Year</th>\n",
       "      <th>Category</th>\n",
       "      <th>Subcategory</th>\n",
       "      <th>Name</th>\n",
       "    </tr>\n",
       "  </thead>\n",
       "  <tbody>\n",
       "    <tr>\n",
       "      <th>0</th>\n",
       "      <td>\\x{1F602}</td>\n",
       "      <td>1</td>\n",
       "      <td>😂</td>\n",
       "      <td>2010</td>\n",
       "      <td>Smileys &amp; Emotion</td>\n",
       "      <td>face-smiling</td>\n",
       "      <td>face with tears of joy</td>\n",
       "    </tr>\n",
       "    <tr>\n",
       "      <th>1</th>\n",
       "      <td>\\x{2764 FE0F}</td>\n",
       "      <td>2</td>\n",
       "      <td>❤️</td>\n",
       "      <td>2010</td>\n",
       "      <td>Smileys &amp; Emotion</td>\n",
       "      <td>emotion</td>\n",
       "      <td>red heart</td>\n",
       "    </tr>\n",
       "    <tr>\n",
       "      <th>2</th>\n",
       "      <td>\\x{1F923}</td>\n",
       "      <td>3</td>\n",
       "      <td>🤣</td>\n",
       "      <td>2016</td>\n",
       "      <td>Smileys &amp; Emotion</td>\n",
       "      <td>face-smiling</td>\n",
       "      <td>rolling on the floor laughing</td>\n",
       "    </tr>\n",
       "    <tr>\n",
       "      <th>3</th>\n",
       "      <td>\\x{1F44D}</td>\n",
       "      <td>4</td>\n",
       "      <td>👍</td>\n",
       "      <td>2010</td>\n",
       "      <td>People &amp; Body</td>\n",
       "      <td>hand-fingers-closed</td>\n",
       "      <td>thumbs up</td>\n",
       "    </tr>\n",
       "    <tr>\n",
       "      <th>4</th>\n",
       "      <td>\\x{1F62D}</td>\n",
       "      <td>5</td>\n",
       "      <td>😭</td>\n",
       "      <td>2010</td>\n",
       "      <td>Smileys &amp; Emotion</td>\n",
       "      <td>face-concerned</td>\n",
       "      <td>loudly crying face</td>\n",
       "    </tr>\n",
       "  </tbody>\n",
       "</table>\n",
       "</div>"
      ],
      "text/plain": [
       "             Hex  Rank Emoji  Year           Category          Subcategory  \\\n",
       "0      \\x{1F602}     1     😂  2010  Smileys & Emotion         face-smiling   \n",
       "1  \\x{2764 FE0F}     2    ❤️  2010  Smileys & Emotion              emotion   \n",
       "2      \\x{1F923}     3     🤣  2016  Smileys & Emotion         face-smiling   \n",
       "3      \\x{1F44D}     4     👍  2010      People & Body  hand-fingers-closed   \n",
       "4      \\x{1F62D}     5     😭  2010  Smileys & Emotion       face-concerned   \n",
       "\n",
       "                            Name  \n",
       "0         face with tears of joy  \n",
       "1                      red heart  \n",
       "2  rolling on the floor laughing  \n",
       "3                      thumbs up  \n",
       "4             loudly crying face  "
      ]
     },
     "execution_count": 6,
     "metadata": {},
     "output_type": "execute_result"
    }
   ],
   "source": [
    "nc.head()"
   ]
  },
  {
   "cell_type": "code",
   "execution_count": 7,
   "id": "48a76ba9",
   "metadata": {},
   "outputs": [
    {
     "data": {
      "text/html": [
       "<div>\n",
       "<style scoped>\n",
       "    .dataframe tbody tr th:only-of-type {\n",
       "        vertical-align: middle;\n",
       "    }\n",
       "\n",
       "    .dataframe tbody tr th {\n",
       "        vertical-align: top;\n",
       "    }\n",
       "\n",
       "    .dataframe thead th {\n",
       "        text-align: right;\n",
       "    }\n",
       "</style>\n",
       "<table border=\"1\" class=\"dataframe\">\n",
       "  <thead>\n",
       "    <tr style=\"text-align: right;\">\n",
       "      <th></th>\n",
       "      <th>Hex</th>\n",
       "      <th>Rank</th>\n",
       "      <th>Emoji</th>\n",
       "      <th>Year</th>\n",
       "      <th>Category</th>\n",
       "      <th>Subcategory</th>\n",
       "      <th>Name</th>\n",
       "    </tr>\n",
       "  </thead>\n",
       "  <tbody>\n",
       "    <tr>\n",
       "      <th>1544</th>\n",
       "      <td>\\x{1F1F3 1F1F7}</td>\n",
       "      <td>1545</td>\n",
       "      <td>🇳🇷</td>\n",
       "      <td>2015</td>\n",
       "      <td>Flags</td>\n",
       "      <td>country-flag</td>\n",
       "      <td>flag: Nauru</td>\n",
       "    </tr>\n",
       "    <tr>\n",
       "      <th>1545</th>\n",
       "      <td>\\x{1F1F2 1F1F6}</td>\n",
       "      <td>1546</td>\n",
       "      <td>🇲🇶</td>\n",
       "      <td>2015</td>\n",
       "      <td>Flags</td>\n",
       "      <td>country-flag</td>\n",
       "      <td>flag: Martinique</td>\n",
       "    </tr>\n",
       "    <tr>\n",
       "      <th>1546</th>\n",
       "      <td>\\x{1F1EC 1F1F5}</td>\n",
       "      <td>1547</td>\n",
       "      <td>🇬🇵</td>\n",
       "      <td>2015</td>\n",
       "      <td>Flags</td>\n",
       "      <td>country-flag</td>\n",
       "      <td>flag: Guadeloupe</td>\n",
       "    </tr>\n",
       "    <tr>\n",
       "      <th>1547</th>\n",
       "      <td>\\x{1F9B2}</td>\n",
       "      <td>1548</td>\n",
       "      <td>🦲</td>\n",
       "      <td>2018</td>\n",
       "      <td>Component</td>\n",
       "      <td>hair-style</td>\n",
       "      <td>bald</td>\n",
       "    </tr>\n",
       "    <tr>\n",
       "      <th>1548</th>\n",
       "      <td>\\x{1F9B3}</td>\n",
       "      <td>1549</td>\n",
       "      <td>🦳</td>\n",
       "      <td>2018</td>\n",
       "      <td>Component</td>\n",
       "      <td>hair-style</td>\n",
       "      <td>white hair</td>\n",
       "    </tr>\n",
       "  </tbody>\n",
       "</table>\n",
       "</div>"
      ],
      "text/plain": [
       "                  Hex  Rank Emoji  Year   Category   Subcategory  \\\n",
       "1544  \\x{1F1F3 1F1F7}  1545    🇳🇷  2015      Flags  country-flag   \n",
       "1545  \\x{1F1F2 1F1F6}  1546    🇲🇶  2015      Flags  country-flag   \n",
       "1546  \\x{1F1EC 1F1F5}  1547    🇬🇵  2015      Flags  country-flag   \n",
       "1547        \\x{1F9B2}  1548     🦲  2018  Component    hair-style   \n",
       "1548        \\x{1F9B3}  1549     🦳  2018  Component    hair-style   \n",
       "\n",
       "                  Name  \n",
       "1544       flag: Nauru  \n",
       "1545  flag: Martinique  \n",
       "1546  flag: Guadeloupe  \n",
       "1547              bald  \n",
       "1548        white hair  "
      ]
     },
     "execution_count": 7,
     "metadata": {},
     "output_type": "execute_result"
    }
   ],
   "source": [
    "nc.tail()"
   ]
  },
  {
   "cell_type": "code",
   "execution_count": 9,
   "id": "7ebe0060",
   "metadata": {},
   "outputs": [
    {
     "data": {
      "text/html": [
       "<div>\n",
       "<style scoped>\n",
       "    .dataframe tbody tr th:only-of-type {\n",
       "        vertical-align: middle;\n",
       "    }\n",
       "\n",
       "    .dataframe tbody tr th {\n",
       "        vertical-align: top;\n",
       "    }\n",
       "\n",
       "    .dataframe thead th {\n",
       "        text-align: right;\n",
       "    }\n",
       "</style>\n",
       "<table border=\"1\" class=\"dataframe\">\n",
       "  <thead>\n",
       "    <tr style=\"text-align: right;\">\n",
       "      <th></th>\n",
       "      <th>Rank</th>\n",
       "      <th>Year</th>\n",
       "    </tr>\n",
       "  </thead>\n",
       "  <tbody>\n",
       "    <tr>\n",
       "      <th>count</th>\n",
       "      <td>1549.000000</td>\n",
       "      <td>1549.000000</td>\n",
       "    </tr>\n",
       "    <tr>\n",
       "      <th>mean</th>\n",
       "      <td>775.000000</td>\n",
       "      <td>2012.899935</td>\n",
       "    </tr>\n",
       "    <tr>\n",
       "      <th>std</th>\n",
       "      <td>447.302098</td>\n",
       "      <td>2.813484</td>\n",
       "    </tr>\n",
       "    <tr>\n",
       "      <th>min</th>\n",
       "      <td>1.000000</td>\n",
       "      <td>2010.000000</td>\n",
       "    </tr>\n",
       "    <tr>\n",
       "      <th>25%</th>\n",
       "      <td>388.000000</td>\n",
       "      <td>2010.000000</td>\n",
       "    </tr>\n",
       "    <tr>\n",
       "      <th>50%</th>\n",
       "      <td>775.000000</td>\n",
       "      <td>2014.000000</td>\n",
       "    </tr>\n",
       "    <tr>\n",
       "      <th>75%</th>\n",
       "      <td>1162.000000</td>\n",
       "      <td>2015.000000</td>\n",
       "    </tr>\n",
       "    <tr>\n",
       "      <th>max</th>\n",
       "      <td>1549.000000</td>\n",
       "      <td>2018.000000</td>\n",
       "    </tr>\n",
       "  </tbody>\n",
       "</table>\n",
       "</div>"
      ],
      "text/plain": [
       "              Rank         Year\n",
       "count  1549.000000  1549.000000\n",
       "mean    775.000000  2012.899935\n",
       "std     447.302098     2.813484\n",
       "min       1.000000  2010.000000\n",
       "25%     388.000000  2010.000000\n",
       "50%     775.000000  2014.000000\n",
       "75%    1162.000000  2015.000000\n",
       "max    1549.000000  2018.000000"
      ]
     },
     "execution_count": 9,
     "metadata": {},
     "output_type": "execute_result"
    }
   ],
   "source": [
    "nc.describe()"
   ]
  },
  {
   "cell_type": "code",
   "execution_count": 27,
   "id": "83f1a673",
   "metadata": {},
   "outputs": [
    {
     "data": {
      "text/plain": [
       " Hex           object\n",
       "Rank            int64\n",
       "Emoji          object\n",
       "Year            int64\n",
       "Category       string\n",
       "Subcategory    object\n",
       "Name           string\n",
       "dtype: object"
      ]
     },
     "execution_count": 27,
     "metadata": {},
     "output_type": "execute_result"
    }
   ],
   "source": [
    "nc.dtypes"
   ]
  },
  {
   "cell_type": "code",
   "execution_count": 20,
   "id": "9a31da1c",
   "metadata": {},
   "outputs": [],
   "source": [
    "nc['Category']=nc['Category'].astype('string')"
   ]
  },
  {
   "cell_type": "code",
   "execution_count": 26,
   "id": "85f51e13",
   "metadata": {},
   "outputs": [],
   "source": [
    "nc['Name']=nc['Name'].astype('string')"
   ]
  },
  {
   "cell_type": "code",
   "execution_count": 15,
   "id": "2c59765e",
   "metadata": {},
   "outputs": [
    {
     "data": {
      "text/plain": [
       "2018"
      ]
     },
     "execution_count": 15,
     "metadata": {},
     "output_type": "execute_result"
    }
   ],
   "source": [
    "max=nc['Year'].max()\n",
    "max"
   ]
  },
  {
   "cell_type": "code",
   "execution_count": 16,
   "id": "156a5e64",
   "metadata": {},
   "outputs": [
    {
     "data": {
      "text/plain": [
       "2010"
      ]
     },
     "execution_count": 16,
     "metadata": {},
     "output_type": "execute_result"
    }
   ],
   "source": [
    "min=nc['Year'].min()\n",
    "min"
   ]
  },
  {
   "cell_type": "code",
   "execution_count": 18,
   "id": "cddef443",
   "metadata": {},
   "outputs": [
    {
     "data": {
      "text/plain": [
       "2010.0"
      ]
     },
     "execution_count": 18,
     "metadata": {},
     "output_type": "execute_result"
    }
   ],
   "source": [
    "q=nc['Year'].quantile(0.15)\n",
    "q"
   ]
  },
  {
   "cell_type": "code",
   "execution_count": null,
   "id": "89f5b48f",
   "metadata": {},
   "outputs": [],
   "source": [
    "#pivot table\n",
    "nc.pivot_table(index='Rank',columns=['Emoji'],values='Year')"
   ]
  },
  {
   "cell_type": "code",
   "execution_count": null,
   "id": "b108c88c",
   "metadata": {},
   "outputs": [],
   "source": [
    "nc.isnull().sum()"
   ]
  },
  {
   "cell_type": "code",
   "execution_count": null,
   "id": "2fbac130",
   "metadata": {},
   "outputs": [],
   "source": [
    "nc.plot(kind='bar')\n",
    "plt.title('emoji of bar')\n",
    "plt.xlabel('names of emoji')\n",
    "plt.ylabel('ration of emoji')\n",
    "plt.show()"
   ]
  },
  {
   "cell_type": "code",
   "execution_count": null,
   "id": "3bcec625",
   "metadata": {},
   "outputs": [],
   "source": [
    "plt.hist(data='nc',x='Year')\n",
    "plt.title('emoji histogram')\n",
    "plt.xlabel('names of emoji')\n",
    "plt.ylabel('ration of emoji')\n",
    "plt.show()"
   ]
  },
  {
   "cell_type": "code",
   "execution_count": null,
   "id": "910936e8",
   "metadata": {},
   "outputs": [],
   "source": [
    "#pairplot\n",
    "sns.pairplot(data=nc)\n",
    "plt.title('emoji of pairplot')\n",
    "plt.xlabel('names of emoji')\n",
    "plt.ylabel('ration of emoji')\n",
    "plt.show()\n",
    "plt.show()"
   ]
  },
  {
   "cell_type": "code",
   "execution_count": null,
   "id": "f7d553c8",
   "metadata": {},
   "outputs": [],
   "source": []
  },
  {
   "cell_type": "code",
   "execution_count": null,
   "id": "bdd53f8d",
   "metadata": {},
   "outputs": [],
   "source": []
  },
  {
   "cell_type": "code",
   "execution_count": null,
   "id": "2d219ec6",
   "metadata": {},
   "outputs": [],
   "source": [
    "nc1=pd.read_csv(\"C:/Users/naras/OneDrive/Desktop/hotel_bookings.csv\")\n",
    "nc1"
   ]
  },
  {
   "cell_type": "code",
   "execution_count": null,
   "id": "0eedbfa1",
   "metadata": {},
   "outputs": [],
   "source": [
    "nc1.isnull().sum()"
   ]
  },
  {
   "cell_type": "code",
   "execution_count": null,
   "id": "b0c4e8f4",
   "metadata": {},
   "outputs": [],
   "source": [
    "#finding unique values from column \n",
    "nc1['country'].unique()"
   ]
  },
  {
   "cell_type": "code",
   "execution_count": null,
   "id": "21150932",
   "metadata": {},
   "outputs": [],
   "source": [
    "nc1['country'].fillna('not depld',inplace=True)"
   ]
  },
  {
   "cell_type": "code",
   "execution_count": null,
   "id": "9a31fbc7",
   "metadata": {},
   "outputs": [],
   "source": [
    "#finding the highest values from column using mode\n",
    "mode=nc1['country'].mode().values[0]\n",
    "mode"
   ]
  },
  {
   "cell_type": "code",
   "execution_count": null,
   "id": "a85e6591",
   "metadata": {},
   "outputs": [],
   "source": [
    "#replacing or back filling nan values\n",
    "nc1['country'].replace(np.nan,mode,inplace=True)"
   ]
  },
  {
   "cell_type": "code",
   "execution_count": null,
   "id": "87046d97",
   "metadata": {},
   "outputs": [],
   "source": [
    "nc1.plot(kind='bar')\n",
    "plt.title('hotel information')\n",
    "plt.xlabel('names of hotel')\n",
    "plt.ylabel('ration of hotel')\n",
    "plt.show()"
   ]
  },
  {
   "cell_type": "code",
   "execution_count": null,
   "id": "580009ad",
   "metadata": {},
   "outputs": [],
   "source": [
    "plt.hist(data='nc1',x='Year')\n",
    "plt.title('emoji histogram')\n",
    "plt.xlabel('names of emoji')\n",
    "plt.ylabel('ration of emoji')\n",
    "plt.show()"
   ]
  },
  {
   "cell_type": "code",
   "execution_count": null,
   "id": "6befe150",
   "metadata": {},
   "outputs": [],
   "source": [
    "#pairplot\n",
    "sns.pairplot(data=nc1)\n",
    "plt.title('hotel information')\n",
    "plt.xlabel('names of hotel')\n",
    "plt.ylabel('ration of hotel')\n",
    "plt.show()"
   ]
  },
  {
   "cell_type": "code",
   "execution_count": null,
   "id": "9566fd88",
   "metadata": {},
   "outputs": [],
   "source": []
  }
 ],
 "metadata": {
  "kernelspec": {
   "display_name": "Python 3 (ipykernel)",
   "language": "python",
   "name": "python3"
  },
  "language_info": {
   "codemirror_mode": {
    "name": "ipython",
    "version": 3
   },
   "file_extension": ".py",
   "mimetype": "text/x-python",
   "name": "python",
   "nbconvert_exporter": "python",
   "pygments_lexer": "ipython3",
   "version": "3.11.4"
  }
 },
 "nbformat": 4,
 "nbformat_minor": 5
}
