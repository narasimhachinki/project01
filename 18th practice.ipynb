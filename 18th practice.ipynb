{
 "cells": [
  {
   "cell_type": "code",
   "execution_count": 2,
   "id": "efbd8de0",
   "metadata": {},
   "outputs": [],
   "source": [
    "import nltk\n",
    "from nltk import sent_tokenize\n",
    "from nltk import word_tokenize"
   ]
  },
  {
   "cell_type": "code",
   "execution_count": 4,
   "id": "1f4af38f",
   "metadata": {},
   "outputs": [
    {
     "name": "stdout",
     "output_type": "stream",
     "text": [
      "Story writing refers to the method of writing in which the writer narrates a series of events that has led to a problem, the progression of the same and the end result that has led to the current situation of the characters in the story.\n"
     ]
    }
   ],
   "source": [
    "try:\n",
    "    with open(\"C:/Users/naras/OneDrive/Desktop/test.2.txt\") as name:\n",
    "        nm=name.read()\n",
    "        print(nm)\n",
    "except FileNoteFoundError:\n",
    "    msg='File does not exist'\n",
    "    print(msg)"
   ]
  },
  {
   "cell_type": "code",
   "execution_count": 5,
   "id": "bb88cfe8",
   "metadata": {},
   "outputs": [
    {
     "data": {
      "text/plain": [
       "['Story writing refers to the method of writing in which the writer narrates a series of events that has led to a problem, the progression of the same and the end result that has led to the current situation of the characters in the story.']"
      ]
     },
     "execution_count": 5,
     "metadata": {},
     "output_type": "execute_result"
    }
   ],
   "source": [
    "#segmentation\n",
    "seg=sent_tokenize(nm)\n",
    "seg"
   ]
  },
  {
   "cell_type": "code",
   "execution_count": 6,
   "id": "186b7e9e",
   "metadata": {},
   "outputs": [
    {
     "data": {
      "text/plain": [
       "1"
      ]
     },
     "execution_count": 6,
     "metadata": {},
     "output_type": "execute_result"
    }
   ],
   "source": [
    "len(seg)"
   ]
  },
  {
   "cell_type": "code",
   "execution_count": 7,
   "id": "9dcbdb8f",
   "metadata": {},
   "outputs": [
    {
     "data": {
      "text/plain": [
       "list"
      ]
     },
     "execution_count": 7,
     "metadata": {},
     "output_type": "execute_result"
    }
   ],
   "source": [
    "type(seg)"
   ]
  },
  {
   "cell_type": "code",
   "execution_count": 8,
   "id": "93a3b922",
   "metadata": {},
   "outputs": [
    {
     "data": {
      "text/plain": [
       "['Story',\n",
       " 'writing',\n",
       " 'refers',\n",
       " 'to',\n",
       " 'the',\n",
       " 'method',\n",
       " 'of',\n",
       " 'writing',\n",
       " 'in',\n",
       " 'which',\n",
       " 'the',\n",
       " 'writer',\n",
       " 'narrates',\n",
       " 'a',\n",
       " 'series',\n",
       " 'of',\n",
       " 'events',\n",
       " 'that',\n",
       " 'has',\n",
       " 'led',\n",
       " 'to',\n",
       " 'a',\n",
       " 'problem',\n",
       " ',',\n",
       " 'the',\n",
       " 'progression',\n",
       " 'of',\n",
       " 'the',\n",
       " 'same',\n",
       " 'and',\n",
       " 'the',\n",
       " 'end',\n",
       " 'result',\n",
       " 'that',\n",
       " 'has',\n",
       " 'led',\n",
       " 'to',\n",
       " 'the',\n",
       " 'current',\n",
       " 'situation',\n",
       " 'of',\n",
       " 'the',\n",
       " 'characters',\n",
       " 'in',\n",
       " 'the',\n",
       " 'story',\n",
       " '.']"
      ]
     },
     "execution_count": 8,
     "metadata": {},
     "output_type": "execute_result"
    }
   ],
   "source": [
    "word=word_tokenize(nm)\n",
    "word"
   ]
  },
  {
   "cell_type": "code",
   "execution_count": 9,
   "id": "259a8e9c",
   "metadata": {},
   "outputs": [
    {
     "data": {
      "text/plain": [
       "47"
      ]
     },
     "execution_count": 9,
     "metadata": {},
     "output_type": "execute_result"
    }
   ],
   "source": [
    "len(word)"
   ]
  },
  {
   "cell_type": "code",
   "execution_count": 10,
   "id": "afd35dcb",
   "metadata": {},
   "outputs": [
    {
     "data": {
      "text/plain": [
       "list"
      ]
     },
     "execution_count": 10,
     "metadata": {},
     "output_type": "execute_result"
    }
   ],
   "source": [
    "type(word)"
   ]
  },
  {
   "cell_type": "code",
   "execution_count": 11,
   "id": "e608178b",
   "metadata": {},
   "outputs": [
    {
     "name": "stdout",
     "output_type": "stream",
     "text": [
      "<FreqDist with 29 samples and 47 outcomes>\n",
      "[('the', 8), ('of', 4), ('to', 3), ('writing', 2), ('in', 2), ('a', 2), ('that', 2), ('has', 2), ('led', 2), ('Story', 1), ('refers', 1), ('method', 1), ('which', 1), ('writer', 1), ('narrates', 1), ('series', 1), ('events', 1), ('problem', 1), (',', 1), ('progression', 1), ('same', 1), ('and', 1), ('end', 1), ('result', 1), ('current', 1), ('situation', 1), ('characters', 1), ('story', 1), ('.', 1)]\n",
      "the\n",
      "0.1702127659574468\n"
     ]
    }
   ],
   "source": [
    "from nltk.probability import FreqDist\n",
    "freq_dist=FreqDist(word)\n",
    "print(freq_dist)\n",
    "print(freq_dist.most_common())\n",
    "print(freq_dist.max())\n",
    "print(freq_dist.freq('the'))"
   ]
  },
  {
   "cell_type": "code",
   "execution_count": 12,
   "id": "c1df049f",
   "metadata": {},
   "outputs": [
    {
     "data": {
      "image/png": "[encoded data removed]",
      "text/plain": [
       "<Figure size 640x480 with 1 Axes>"
      ]
     },
     "metadata": {},
     "output_type": "display_data"
    },
    {
     "name": "stdout",
     "output_type": "stream",
     "text": [
      "Axes(0.125,0.11;0.775x0.77)\n"
     ]
    }
   ],
   "source": [
    "print(freq_dist.plot())"
   ]
  },
  {
   "cell_type": "code",
   "execution_count": 13,
   "id": "7ae0abe8",
   "metadata": {},
   "outputs": [
    {
     "name": "stdout",
     "output_type": "stream",
     "text": [
      "        the          of          to     writing          in           a        that         has         led       Story      refers      method       which      writer    narrates      series      events     problem           , progression        same         and         end      result     current   situation  characters       story           . \n",
      "          8           4           3           2           2           2           2           2           2           1           1           1           1           1           1           1           1           1           1           1           1           1           1           1           1           1           1           1           1 \n",
      "None\n"
     ]
    }
   ],
   "source": [
    "print(freq_dist.tabulate())"
   ]
  },
  {
   "cell_type": "code",
   "execution_count": 15,
   "id": "f6801feb",
   "metadata": {},
   "outputs": [],
   "source": [
    "import nltk\n",
    "from nltk import sent_tokenize\n",
    "from nltk import word_tokenize"
   ]
  },
  {
   "cell_type": "code",
   "execution_count": 86,
   "id": "3eea5c04",
   "metadata": {},
   "outputs": [
    {
     "name": "stdout",
     "output_type": "stream",
     "text": [
      "A narrative about people and events, usually including an interesting plot, is a story. A story can be fictional or true, and it can be written, read aloud, or made up on the spot.\n",
      "successfull\n"
     ]
    }
   ],
   "source": [
    "try:\n",
    "    with open(\"C:/Users/naras/OneDrive/Desktop/test.1.txt\")as win:\n",
    "        vr=win.read()\n",
    "        print(vr)\n",
    "        print('successfull')\n",
    "except FileNoteFoundError:\n",
    "    msg='File does not exist'\n",
    "    print(msg)"
   ]
  },
  {
   "cell_type": "code",
   "execution_count": 21,
   "id": "de3adf49",
   "metadata": {},
   "outputs": [
    {
     "data": {
      "text/plain": [
       "['A narrative about people and events, usually including an interesting plot, is a story.',\n",
       " 'A story can be fictional or true, and it can be written, read aloud, or made up on the spot.']"
      ]
     },
     "execution_count": 21,
     "metadata": {},
     "output_type": "execute_result"
    }
   ],
   "source": [
    "#segmentation\n",
    "seg=sent_tokenize(vr)\n",
    "seg"
   ]
  },
  {
   "cell_type": "code",
   "execution_count": 22,
   "id": "12e804a9",
   "metadata": {},
   "outputs": [
    {
     "data": {
      "text/plain": [
       "2"
      ]
     },
     "execution_count": 22,
     "metadata": {},
     "output_type": "execute_result"
    }
   ],
   "source": [
    "len(seg)"
   ]
  },
  {
   "cell_type": "code",
   "execution_count": 23,
   "id": "823356be",
   "metadata": {},
   "outputs": [
    {
     "data": {
      "text/plain": [
       "list"
      ]
     },
     "execution_count": 23,
     "metadata": {},
     "output_type": "execute_result"
    }
   ],
   "source": [
    "type(seg)"
   ]
  },
  {
   "cell_type": "code",
   "execution_count": 24,
   "id": "1ee28944",
   "metadata": {},
   "outputs": [
    {
     "data": {
      "text/plain": [
       "['A',\n",
       " 'narrative',\n",
       " 'about',\n",
       " 'people',\n",
       " 'and',\n",
       " 'events',\n",
       " ',',\n",
       " 'usually',\n",
       " 'including',\n",
       " 'an',\n",
       " 'interesting',\n",
       " 'plot',\n",
       " ',',\n",
       " 'is',\n",
       " 'a',\n",
       " 'story',\n",
       " '.',\n",
       " 'A',\n",
       " 'story',\n",
       " 'can',\n",
       " 'be',\n",
       " 'fictional',\n",
       " 'or',\n",
       " 'true',\n",
       " ',',\n",
       " 'and',\n",
       " 'it',\n",
       " 'can',\n",
       " 'be',\n",
       " 'written',\n",
       " ',',\n",
       " 'read',\n",
       " 'aloud',\n",
       " ',',\n",
       " 'or',\n",
       " 'made',\n",
       " 'up',\n",
       " 'on',\n",
       " 'the',\n",
       " 'spot',\n",
       " '.']"
      ]
     },
     "execution_count": 24,
     "metadata": {},
     "output_type": "execute_result"
    }
   ],
   "source": [
    "word=word_tokenize(vr)\n",
    "word"
   ]
  },
  {
   "cell_type": "code",
   "execution_count": 25,
   "id": "bf78ffbe",
   "metadata": {},
   "outputs": [
    {
     "data": {
      "text/plain": [
       "41"
      ]
     },
     "execution_count": 25,
     "metadata": {},
     "output_type": "execute_result"
    }
   ],
   "source": [
    "len(word)"
   ]
  },
  {
   "cell_type": "code",
   "execution_count": 26,
   "id": "54df464d",
   "metadata": {},
   "outputs": [
    {
     "data": {
      "text/plain": [
       "list"
      ]
     },
     "execution_count": 26,
     "metadata": {},
     "output_type": "execute_result"
    }
   ],
   "source": [
    "type(word)"
   ]
  },
  {
   "cell_type": "code",
   "execution_count": 32,
   "id": "6fa00ced",
   "metadata": {},
   "outputs": [
    {
     "name": "stdout",
     "output_type": "stream",
     "text": [
      "<FreqDist with 30 samples and 41 outcomes>\n",
      "[(',', 5), ('A', 2), ('and', 2), ('story', 2), ('.', 2), ('can', 2), ('be', 2), ('or', 2), ('narrative', 1), ('about', 1), ('people', 1), ('events', 1), ('usually', 1), ('including', 1), ('an', 1), ('interesting', 1), ('plot', 1), ('is', 1), ('a', 1), ('fictional', 1), ('true', 1), ('it', 1), ('written', 1), ('read', 1), ('aloud', 1), ('made', 1), ('up', 1), ('on', 1), ('the', 1), ('spot', 1)]\n",
      ",\n",
      "0.024390243902439025\n"
     ]
    }
   ],
   "source": [
    "from nltk.probability import FreqDist\n",
    "freq_dist=FreqDist(word)\n",
    "print(freq_dist)\n",
    "print(freq_dist.most_common())\n",
    "print(freq_dist.max())\n",
    "print(freq_dist.freq('the'))"
   ]
  },
  {
   "cell_type": "code",
   "execution_count": 30,
   "id": "1b0dca4f",
   "metadata": {},
   "outputs": [
    {
     "data": {
      "image/png": "[encoded data removed]",
      "text/plain": [
       "<Figure size 640x480 with 1 Axes>"
      ]
     },
     "metadata": {},
     "output_type": "display_data"
    },
    {
     "name": "stdout",
     "output_type": "stream",
     "text": [
      "Axes(0.125,0.11;0.775x0.77)\n"
     ]
    }
   ],
   "source": [
    "print(freq_dist.plot())"
   ]
  },
  {
   "cell_type": "code",
   "execution_count": 31,
   "id": "a887ba4f",
   "metadata": {},
   "outputs": [
    {
     "name": "stdout",
     "output_type": "stream",
     "text": [
      "          ,           A         and       story           .         can          be          or   narrative       about      people      events     usually   including          an interesting        plot          is           a   fictional        true          it     written        read       aloud        made          up          on         the        spot \n",
      "          5           2           2           2           2           2           2           2           1           1           1           1           1           1           1           1           1           1           1           1           1           1           1           1           1           1           1           1           1           1 \n",
      "None\n"
     ]
    }
   ],
   "source": [
    "print(freq_dist.tabulate())"
   ]
  },
  {
   "cell_type": "code",
   "execution_count": 33,
   "id": "21534313",
   "metadata": {},
   "outputs": [
    {
     "name": "stdout",
     "output_type": "stream",
     "text": [
      "dict_values([2, 1, 1, 1, 2, 1, 5, 1, 1, 1, 1, 1, 1, 1, 2, 2, 2, 2, 1, 2, 1, 1, 1, 1, 1, 1, 1, 1, 1, 1])\n"
     ]
    }
   ],
   "source": [
    "print(freq_dist.values())"
   ]
  },
  {
   "cell_type": "markdown",
   "id": "c9db799c",
   "metadata": {},
   "source": [
    "remove stopword marks "
   ]
  },
  {
   "cell_type": "code",
   "execution_count": 34,
   "id": "bfb0ad90",
   "metadata": {},
   "outputs": [
    {
     "name": "stderr",
     "output_type": "stream",
     "text": [
      "[nltk_data] Downloading package stopwords to\n",
      "[nltk_data]     C:\\Users\\naras\\AppData\\Roaming\\nltk_data...\n",
      "[nltk_data]   Unzipping corpora\\stopwords.zip.\n"
     ]
    },
    {
     "data": {
      "text/plain": [
       "True"
      ]
     },
     "execution_count": 34,
     "metadata": {},
     "output_type": "execute_result"
    }
   ],
   "source": [
    "nltk.download('stopwords')"
   ]
  },
  {
   "cell_type": "code",
   "execution_count": 35,
   "id": "a1851582",
   "metadata": {},
   "outputs": [
    {
     "data": {
      "text/plain": [
       "['A narrative about people and events, usually including an interesting plot, is a story.',\n",
       " 'A story can be fictional or true, and it can be written, read aloud, or made up on the spot.']"
      ]
     },
     "execution_count": 35,
     "metadata": {},
     "output_type": "execute_result"
    }
   ],
   "source": [
    "sen=sent_tokenize(vr)\n",
    "sen"
   ]
  },
  {
   "cell_type": "code",
   "execution_count": 36,
   "id": "2c4ee9a3",
   "metadata": {},
   "outputs": [
    {
     "data": {
      "text/plain": [
       "['A',\n",
       " 'narrative',\n",
       " 'about',\n",
       " 'people',\n",
       " 'and',\n",
       " 'events',\n",
       " ',',\n",
       " 'usually',\n",
       " 'including',\n",
       " 'an',\n",
       " 'interesting',\n",
       " 'plot',\n",
       " ',',\n",
       " 'is',\n",
       " 'a',\n",
       " 'story',\n",
       " '.',\n",
       " 'A',\n",
       " 'story',\n",
       " 'can',\n",
       " 'be',\n",
       " 'fictional',\n",
       " 'or',\n",
       " 'true',\n",
       " ',',\n",
       " 'and',\n",
       " 'it',\n",
       " 'can',\n",
       " 'be',\n",
       " 'written',\n",
       " ',',\n",
       " 'read',\n",
       " 'aloud',\n",
       " ',',\n",
       " 'or',\n",
       " 'made',\n",
       " 'up',\n",
       " 'on',\n",
       " 'the',\n",
       " 'spot',\n",
       " '.']"
      ]
     },
     "execution_count": 36,
     "metadata": {},
     "output_type": "execute_result"
    }
   ],
   "source": [
    "wor=word_tokenize(vr)\n",
    "wor"
   ]
  },
  {
   "cell_type": "code",
   "execution_count": 37,
   "id": "d3f75127",
   "metadata": {},
   "outputs": [
    {
     "data": {
      "text/plain": [
       "\"from nltk.corpus import stopwords\\nprint(stopwords.words('english'))\""
      ]
     },
     "execution_count": 37,
     "metadata": {},
     "output_type": "execute_result"
    }
   ],
   "source": [
    "'''from nltk.corpus import stopwords\n",
    "print(stopwords.words('english'))'''"
   ]
  },
  {
   "cell_type": "code",
   "execution_count": 60,
   "id": "363f593c",
   "metadata": {},
   "outputs": [
    {
     "name": "stdout",
     "output_type": "stream",
     "text": [
      "A narrative about people and events usually including an interesting plot is a story A story can be fictional or true and it can be written read aloud or made up on the spot\n",
      "A narrative about people and events usually including an interesting plot is a story A story can be fictional or true and it can be written read aloud or made up on the spot\n",
      "A narrative about people and events usually including an interesting plot is a story A story can be fictional or true and it can be written read aloud or made up on the spot\n",
      "A narrative about people and events usually including an interesting plot is a story A story can be fictional or true and it can be written read aloud or made up on the spot\n",
      "A narrative about people and events usually including an interesting plot is a story A story can be fictional or true and it can be written read aloud or made up on the spot\n",
      "A narrative about people and events usually including an interesting plot is a story A story can be fictional or true and it can be written read aloud or made up on the spot\n",
      "A narrative about people and events usually including an interesting plot is a story A story can be fictional or true and it can be written read aloud or made up on the spot\n",
      "A narrative about people and events usually including an interesting plot is a story A story can be fictional or true and it can be written read aloud or made up on the spot\n",
      "A narrative about people and events usually including an interesting plot is a story A story can be fictional or true and it can be written read aloud or made up on the spot\n",
      "A narrative about people and events usually including an interesting plot is a story A story can be fictional or true and it can be written read aloud or made up on the spot\n",
      "A narrative about people and events usually including an interesting plot is a story A story can be fictional or true and it can be written read aloud or made up on the spot\n",
      "A narrative about people and events usually including an interesting plot is a story A story can be fictional or true and it can be written read aloud or made up on the spot\n",
      "A narrative about people and events usually including an interesting plot is a story A story can be fictional or true and it can be written read aloud or made up on the spot\n",
      "A narrative about people and events usually including an interesting plot is a story A story can be fictional or true and it can be written read aloud or made up on the spot\n",
      "A narrative about people and events usually including an interesting plot is a story A story can be fictional or true and it can be written read aloud or made up on the spot\n",
      "A narrative about people and events usually including an interesting plot is a story A story can be fictional or true and it can be written read aloud or made up on the spot\n",
      "A narrative about people and events usually including an interesting plot is a story A story can be fictional or true and it can be written read aloud or made up on the spot\n",
      "A narrative about people and events usually including an interesting plot is a story A story can be fictional or true and it can be written read aloud or made up on the spot\n",
      "A narrative about people and events usually including an interesting plot is a story A story can be fictional or true and it can be written read aloud or made up on the spot\n",
      "A narrative about people and events usually including an interesting plot is a story A story can be fictional or true and it can be written read aloud or made up on the spot\n",
      "A narrative about people and events usually including an interesting plot is a story A story can be fictional or true and it can be written read aloud or made up on the spot\n",
      "A narrative about people and events usually including an interesting plot is a story A story can be fictional or true and it can be written read aloud or made up on the spot\n",
      "A narrative about people and events usually including an interesting plot is a story A story can be fictional or true and it can be written read aloud or made up on the spot\n",
      "A narrative about people and events usually including an interesting plot is a story A story can be fictional or true and it can be written read aloud or made up on the spot\n",
      "A narrative about people and events usually including an interesting plot is a story A story can be fictional or true and it can be written read aloud or made up on the spot\n",
      "A narrative about people and events usually including an interesting plot is a story A story can be fictional or true and it can be written read aloud or made up on the spot\n",
      "A narrative about people and events usually including an interesting plot is a story A story can be fictional or true and it can be written read aloud or made up on the spot\n",
      "A narrative about people and events usually including an interesting plot is a story A story can be fictional or true and it can be written read aloud or made up on the spot\n",
      "A narrative about people and events usually including an interesting plot is a story A story can be fictional or true and it can be written read aloud or made up on the spot\n",
      "A narrative about people and events usually including an interesting plot is a story A story can be fictional or true and it can be written read aloud or made up on the spot\n",
      "A narrative about people and events usually including an interesting plot is a story A story can be fictional or true and it can be written read aloud or made up on the spot\n",
      "A narrative about people and events usually including an interesting plot is a story A story can be fictional or true and it can be written read aloud or made up on the spot\n"
     ]
    }
   ],
   "source": [
    "import string\n",
    "for punc in string.punctuation:\n",
    "    vr=vr.replace(punc,'')\n",
    "    print(vr)"
   ]
  },
  {
   "cell_type": "code",
   "execution_count": 58,
   "id": "55cbf27f",
   "metadata": {},
   "outputs": [],
   "source": [
    "from nltk.corpus import stopwords"
   ]
  },
  {
   "cell_type": "code",
   "execution_count": 59,
   "id": "51b4b2b2",
   "metadata": {},
   "outputs": [
    {
     "name": "stdout",
     "output_type": "stream",
     "text": [
      "['narrative', 'people', 'events', ',', 'usually', 'including', 'interesting', 'plot', ',', 'story', '.', 'story', 'fictional', 'true', ',', 'written', ',', 'read', 'aloud', ',', 'made', 'spot', '.']\n"
     ]
    }
   ],
   "source": [
    "stop_words=set(stopwords.words('english'))\n",
    "clean_words=[]\n",
    "for word in wor:\n",
    "    if word.lower() not in stop_words:\n",
    "        clean_words.append(word)\n",
    "print(clean_words)"
   ]
  },
  {
   "cell_type": "code",
   "execution_count": 78,
   "id": "2214c98c",
   "metadata": {},
   "outputs": [
    {
     "name": "stdout",
     "output_type": "stream",
     "text": [
      "Stemming in PorterStemmer\n",
      "['narr', 'peopl', 'event', ',', 'usual', 'includ', 'interest', 'plot', ',', 'stori', '.', 'stori', 'fiction', 'true', ',', 'written', ',', 'read', 'aloud', ',', 'made', 'spot', '.']\n",
      "Stemming in LancasterStemmer\n",
      "['nar', 'peopl', 'ev', ',', 'us', 'includ', 'interest', 'plot', ',', 'story', '.', 'story', 'fict', 'tru', ',', 'writ', ',', 'read', 'aloud', ',', 'mad', 'spot', '.']\n",
      "Stemming in SnowballStemmer\n",
      "['narrat', 'peopl', 'event', ',', 'usual', 'includ', 'interest', 'plot', ',', 'stori', '.', 'stori', 'fiction', 'true', ',', 'written', ',', 'read', 'aloud', ',', 'made', 'spot', '.']\n"
     ]
    }
   ],
   "source": [
    "from nltk.stem.porter import PorterStemmer\n",
    "from nltk.stem.lancaster import LancasterStemmer\n",
    "from nltk.stem.snowball import SnowballStemmer\n",
    "\n",
    "stemmed=[PorterStemmer().stem(w) for w in clean_words]\n",
    "print(\"Stemming in PorterStemmer\")\n",
    "print(stemmed)\n",
    "\n",
    "stemmed=[LancasterStemmer().stem(w) for w in clean_words]\n",
    "print(\"Stemming in LancasterStemmer\")\n",
    "print(stemmed)\n",
    "\n",
    "stemmed=[SnowballStemmer('english').stem(w) for w in clean_words]\n",
    "print(\"Stemming in SnowballStemmer\")\n",
    "print(stemmed)"
   ]
  },
  {
   "cell_type": "code",
   "execution_count": 79,
   "id": "53f4d5bf",
   "metadata": {},
   "outputs": [],
   "source": [
    "from nltk.stem.wordnet import WordNetLemmatizer"
   ]
  },
  {
   "cell_type": "code",
   "execution_count": 80,
   "id": "d4a390b5",
   "metadata": {},
   "outputs": [
    {
     "name": "stderr",
     "output_type": "stream",
     "text": [
      "[nltk_data] Downloading package wordnet to\n",
      "[nltk_data]     C:\\Users\\naras\\AppData\\Roaming\\nltk_data...\n"
     ]
    },
    {
     "data": {
      "text/plain": [
       "True"
      ]
     },
     "execution_count": 80,
     "metadata": {},
     "output_type": "execute_result"
    }
   ],
   "source": [
    "import nltk\n",
    "nltk.download('wordnet')"
   ]
  },
  {
   "cell_type": "code",
   "execution_count": 82,
   "id": "29fbd765",
   "metadata": {},
   "outputs": [
    {
     "name": "stdout",
     "output_type": "stream",
     "text": [
      "['narrative', 'people', 'event', ',', 'usually', 'including', 'interesting', 'plot', ',', 'story', '.', 'story', 'fictional', 'true', ',', 'written', ',', 'read', 'aloud', ',', 'made', 'spot', '.']\n"
     ]
    }
   ],
   "source": [
    "from nltk.stem.wordnet import WordNetLemmatizer\n",
    "lemmed=[WordNetLemmatizer().lemmatize(w) for w in clean_words]\n",
    "print(lemmed)"
   ]
  },
  {
   "cell_type": "code",
   "execution_count": 83,
   "id": "d829b9fc",
   "metadata": {},
   "outputs": [
    {
     "name": "stderr",
     "output_type": "stream",
     "text": [
      "[nltk_data] Downloading package averaged_perceptron_tagger to\n",
      "[nltk_data]     C:\\Users\\naras\\AppData\\Roaming\\nltk_data...\n",
      "[nltk_data]   Unzipping taggers\\averaged_perceptron_tagger.zip.\n"
     ]
    },
    {
     "data": {
      "text/plain": [
       "True"
      ]
     },
     "execution_count": 83,
     "metadata": {},
     "output_type": "execute_result"
    }
   ],
   "source": [
    "nltk.download('averaged_perceptron_tagger')"
   ]
  },
  {
   "cell_type": "code",
   "execution_count": 85,
   "id": "dba151fe",
   "metadata": {},
   "outputs": [
    {
     "data": {
      "text/plain": [
       "[('narrative', 'JJ'),\n",
       " ('people', 'NNS'),\n",
       " ('events', 'NNS'),\n",
       " (',', ','),\n",
       " ('usually', 'RB'),\n",
       " ('including', 'VBG'),\n",
       " ('interesting', 'VBG'),\n",
       " ('plot', 'NN'),\n",
       " (',', ','),\n",
       " ('story', 'NN'),\n",
       " ('.', '.'),\n",
       " ('story', 'NN'),\n",
       " ('fictional', 'JJ'),\n",
       " ('true', 'JJ'),\n",
       " (',', ','),\n",
       " ('written', 'VBN'),\n",
       " (',', ','),\n",
       " ('read', 'VB'),\n",
       " ('aloud', 'NN'),\n",
       " (',', ','),\n",
       " ('made', 'VBD'),\n",
       " ('spot', 'NN'),\n",
       " ('.', '.')]"
      ]
     },
     "execution_count": 85,
     "metadata": {},
     "output_type": "execute_result"
    }
   ],
   "source": [
    "#parts of speech tagging\n",
    "import nltk\n",
    "nltk.pos_tag(clean_words)"
   ]
  },
  {
   "cell_type": "code",
   "execution_count": 87,
   "id": "e8cf0e22",
   "metadata": {},
   "outputs": [],
   "source": [
    "import nltk\n",
    "from nltk.tokenize import sent_tokenize, word_tokenize"
   ]
  },
  {
   "cell_type": "code",
   "execution_count": 89,
   "id": "1fe2a474",
   "metadata": {},
   "outputs": [
    {
     "name": "stdout",
     "output_type": "stream",
     "text": [
      "Most of us have probably heard of this story as this is one of the most popular fairy tales in the world. The story revolves around a duckling who from the moment of his birth has always felt different from his siblings. He was always picked on because he didnâ€™t look like the rest of them. One day, he had enough and ran away from the pond he grew up in. He wandered near and far looking for a family who would accept him. Months passed and seasons changed but everywhere he went, nobody wanted him because he was such an ugly duck. Then one day, he came upon a family of swans. Upon looking at them, he realized that during the months he spent looking for a family to call his own, he had grown into a beautiful swan. Now he finally understood why he never looked like the rest of his siblings because he isnâ€™t a duck but a swan.\n",
      "successfull\n"
     ]
    }
   ],
   "source": [
    "#exceptional handling\n",
    "try:\n",
    "    with open(\"C:/Users/naras/OneDrive/Desktop/story_2.txt\")as story:\n",
    "        nm=story.read()\n",
    "        print(nm)\n",
    "        print('successfull')\n",
    "except FileNoteFoundError:\n",
    "    msg='File does not exists'\n",
    "    print(msg)"
   ]
  },
  {
   "cell_type": "code",
   "execution_count": 90,
   "id": "044ab3d4",
   "metadata": {},
   "outputs": [
    {
     "data": {
      "text/plain": [
       "['Most of us have probably heard of this story as this is one of the most popular fairy tales in the world.',\n",
       " 'The story revolves around a duckling who from the moment of his birth has always felt different from his siblings.',\n",
       " 'He was always picked on because he didnâ€™t look like the rest of them.',\n",
       " 'One day, he had enough and ran away from the pond he grew up in.',\n",
       " 'He wandered near and far looking for a family who would accept him.',\n",
       " 'Months passed and seasons changed but everywhere he went, nobody wanted him because he was such an ugly duck.',\n",
       " 'Then one day, he came upon a family of swans.',\n",
       " 'Upon looking at them, he realized that during the months he spent looking for a family to call his own, he had grown into a beautiful swan.',\n",
       " 'Now he finally understood why he never looked like the rest of his siblings because he isnâ€™t a duck but a swan.']"
      ]
     },
     "execution_count": 90,
     "metadata": {},
     "output_type": "execute_result"
    }
   ],
   "source": [
    "#segmentation\n",
    "seg=sent_tokenize(nm)\n",
    "seg"
   ]
  },
  {
   "cell_type": "code",
   "execution_count": 91,
   "id": "49aca265",
   "metadata": {},
   "outputs": [
    {
     "data": {
      "text/plain": [
       "9"
      ]
     },
     "execution_count": 91,
     "metadata": {},
     "output_type": "execute_result"
    }
   ],
   "source": [
    "len(seg)"
   ]
  },
  {
   "cell_type": "code",
   "execution_count": 92,
   "id": "ec3f790f",
   "metadata": {},
   "outputs": [
    {
     "data": {
      "text/plain": [
       "list"
      ]
     },
     "execution_count": 92,
     "metadata": {},
     "output_type": "execute_result"
    }
   ],
   "source": [
    "type(seg)"
   ]
  },
  {
   "cell_type": "code",
   "execution_count": 93,
   "id": "fdb3be36",
   "metadata": {},
   "outputs": [
    {
     "data": {
      "text/plain": [
       "['Most',\n",
       " 'of',\n",
       " 'us',\n",
       " 'have',\n",
       " 'probably',\n",
       " 'heard',\n",
       " 'of',\n",
       " 'this',\n",
       " 'story',\n",
       " 'as',\n",
       " 'this',\n",
       " 'is',\n",
       " 'one',\n",
       " 'of',\n",
       " 'the',\n",
       " 'most',\n",
       " 'popular',\n",
       " 'fairy',\n",
       " 'tales',\n",
       " 'in',\n",
       " 'the',\n",
       " 'world',\n",
       " '.',\n",
       " 'The',\n",
       " 'story',\n",
       " 'revolves',\n",
       " 'around',\n",
       " 'a',\n",
       " 'duckling',\n",
       " 'who',\n",
       " 'from',\n",
       " 'the',\n",
       " 'moment',\n",
       " 'of',\n",
       " 'his',\n",
       " 'birth',\n",
       " 'has',\n",
       " 'always',\n",
       " 'felt',\n",
       " 'different',\n",
       " 'from',\n",
       " 'his',\n",
       " 'siblings',\n",
       " '.',\n",
       " 'He',\n",
       " 'was',\n",
       " 'always',\n",
       " 'picked',\n",
       " 'on',\n",
       " 'because',\n",
       " 'he',\n",
       " 'didnâ€™t',\n",
       " 'look',\n",
       " 'like',\n",
       " 'the',\n",
       " 'rest',\n",
       " 'of',\n",
       " 'them',\n",
       " '.',\n",
       " 'One',\n",
       " 'day',\n",
       " ',',\n",
       " 'he',\n",
       " 'had',\n",
       " 'enough',\n",
       " 'and',\n",
       " 'ran',\n",
       " 'away',\n",
       " 'from',\n",
       " 'the',\n",
       " 'pond',\n",
       " 'he',\n",
       " 'grew',\n",
       " 'up',\n",
       " 'in',\n",
       " '.',\n",
       " 'He',\n",
       " 'wandered',\n",
       " 'near',\n",
       " 'and',\n",
       " 'far',\n",
       " 'looking',\n",
       " 'for',\n",
       " 'a',\n",
       " 'family',\n",
       " 'who',\n",
       " 'would',\n",
       " 'accept',\n",
       " 'him',\n",
       " '.',\n",
       " 'Months',\n",
       " 'passed',\n",
       " 'and',\n",
       " 'seasons',\n",
       " 'changed',\n",
       " 'but',\n",
       " 'everywhere',\n",
       " 'he',\n",
       " 'went',\n",
       " ',',\n",
       " 'nobody',\n",
       " 'wanted',\n",
       " 'him',\n",
       " 'because',\n",
       " 'he',\n",
       " 'was',\n",
       " 'such',\n",
       " 'an',\n",
       " 'ugly',\n",
       " 'duck',\n",
       " '.',\n",
       " 'Then',\n",
       " 'one',\n",
       " 'day',\n",
       " ',',\n",
       " 'he',\n",
       " 'came',\n",
       " 'upon',\n",
       " 'a',\n",
       " 'family',\n",
       " 'of',\n",
       " 'swans',\n",
       " '.',\n",
       " 'Upon',\n",
       " 'looking',\n",
       " 'at',\n",
       " 'them',\n",
       " ',',\n",
       " 'he',\n",
       " 'realized',\n",
       " 'that',\n",
       " 'during',\n",
       " 'the',\n",
       " 'months',\n",
       " 'he',\n",
       " 'spent',\n",
       " 'looking',\n",
       " 'for',\n",
       " 'a',\n",
       " 'family',\n",
       " 'to',\n",
       " 'call',\n",
       " 'his',\n",
       " 'own',\n",
       " ',',\n",
       " 'he',\n",
       " 'had',\n",
       " 'grown',\n",
       " 'into',\n",
       " 'a',\n",
       " 'beautiful',\n",
       " 'swan',\n",
       " '.',\n",
       " 'Now',\n",
       " 'he',\n",
       " 'finally',\n",
       " 'understood',\n",
       " 'why',\n",
       " 'he',\n",
       " 'never',\n",
       " 'looked',\n",
       " 'like',\n",
       " 'the',\n",
       " 'rest',\n",
       " 'of',\n",
       " 'his',\n",
       " 'siblings',\n",
       " 'because',\n",
       " 'he',\n",
       " 'isnâ€™t',\n",
       " 'a',\n",
       " 'duck',\n",
       " 'but',\n",
       " 'a',\n",
       " 'swan',\n",
       " '.']"
      ]
     },
     "execution_count": 93,
     "metadata": {},
     "output_type": "execute_result"
    }
   ],
   "source": [
    "word=word_tokenize(nm)\n",
    "word"
   ]
  },
  {
   "cell_type": "code",
   "execution_count": 94,
   "id": "6ffd91ae",
   "metadata": {},
   "outputs": [
    {
     "data": {
      "text/plain": [
       "176"
      ]
     },
     "execution_count": 94,
     "metadata": {},
     "output_type": "execute_result"
    }
   ],
   "source": [
    "len(word)"
   ]
  },
  {
   "cell_type": "code",
   "execution_count": 95,
   "id": "4a0e8346",
   "metadata": {},
   "outputs": [
    {
     "data": {
      "text/plain": [
       "list"
      ]
     },
     "execution_count": 95,
     "metadata": {},
     "output_type": "execute_result"
    }
   ],
   "source": [
    "type(word)"
   ]
  },
  {
   "cell_type": "code",
   "execution_count": 96,
   "id": "df928806",
   "metadata": {},
   "outputs": [
    {
     "name": "stdout",
     "output_type": "stream",
     "text": [
      "<FreqDist with 35 samples and 835 outcomes>\n",
      "[(' ', 161), ('e', 72), ('a', 57), ('o', 54), ('h', 47), ('n', 47), ('s', 44), ('t', 39), ('i', 35), ('r', 30), ('d', 30), ('l', 29), ('f', 22), ('u', 21), ('w', 21), ('y', 17), ('m', 15), ('c', 13), ('b', 12), ('g', 12), ('p', 11), ('k', 11), ('.', 9), ('v', 5), (',', 5), ('M', 2), ('T', 2), ('H', 2), ('â', 2), ('€', 2), ('™', 2), ('O', 1), ('U', 1), ('z', 1), ('N', 1)]\n",
      " \n",
      "0.0\n"
     ]
    }
   ],
   "source": [
    "from nltk.probability import FreqDist\n",
    "freq_dist=FreqDist(nm)\n",
    "print(freq_dist)\n",
    "print(freq_dist.most_common())\n",
    "print(freq_dist.max())\n",
    "print(freq_dist.freq('the'))\n"
   ]
  },
  {
   "cell_type": "code",
   "execution_count": 97,
   "id": "e34edcb4",
   "metadata": {},
   "outputs": [
    {
     "data": {
      "image/png": "[encoded data removed]",
      "text/plain": [
       "<Figure size 640x480 with 1 Axes>"
      ]
     },
     "metadata": {},
     "output_type": "display_data"
    },
    {
     "name": "stdout",
     "output_type": "stream",
     "text": [
      "Axes(0.125,0.11;0.775x0.77)\n"
     ]
    }
   ],
   "source": [
    "print(freq_dist.plot())"
   ]
  },
  {
   "cell_type": "code",
   "execution_count": 98,
   "id": "32b88c8a",
   "metadata": {},
   "outputs": [
    {
     "name": "stdout",
     "output_type": "stream",
     "text": [
      "      e   a   o   h   n   s   t   i   r   d   l   f   u   w   y   m   c   b   g   p   k   .   v   ,   M   T   H   â   €   ™   O   U   z   N \n",
      "161  72  57  54  47  47  44  39  35  30  30  29  22  21  21  17  15  13  12  12  11  11   9   5   5   2   2   2   2   2   2   1   1   1   1 \n",
      "None\n"
     ]
    }
   ],
   "source": [
    "print(freq_dist.tabulate())"
   ]
  },
  {
   "cell_type": "code",
   "execution_count": 100,
   "id": "85f91f7a",
   "metadata": {},
   "outputs": [
    {
     "name": "stdout",
     "output_type": "stream",
     "text": [
      "dict_values([2, 54, 44, 39, 161, 22, 21, 47, 57, 5, 72, 11, 30, 12, 29, 17, 30, 35, 47, 15, 21, 9, 2, 13, 11, 12, 2, 2, 2, 2, 1, 5, 1, 1, 1])\n"
     ]
    }
   ],
   "source": [
    "print(freq_dist.values())"
   ]
  },
  {
   "cell_type": "markdown",
   "id": "448551fb",
   "metadata": {},
   "source": [
    "# remove stopword mark"
   ]
  },
  {
   "cell_type": "code",
   "execution_count": null,
   "id": "999d4afb",
   "metadata": {},
   "outputs": [],
   "source": []
  }
 ],
 "metadata": {
  "kernelspec": {
   "display_name": "Python 3 (ipykernel)",
   "language": "python",
   "name": "python3"
  },
  "language_info": {
   "codemirror_mode": {
    "name": "ipython",
    "version": 3
   },
   "file_extension": ".py",
   "mimetype": "text/x-python",
   "name": "python",
   "nbconvert_exporter": "python",
   "pygments_lexer": "ipython3",
   "version": "3.11.4"
  }
 },
 "nbformat": 4,
 "nbformat_minor": 5
}
