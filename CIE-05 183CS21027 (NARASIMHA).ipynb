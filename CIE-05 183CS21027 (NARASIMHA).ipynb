{
 "cells": [
  {
   "cell_type": "code",
   "execution_count": 2,
   "id": "ca8c28d9",
   "metadata": {},
   "outputs": [],
   "source": [
    "#import packge models\n",
    "import nltk\n",
    "from nltk.tokenize import sent_tokenize"
   ]
  },
  {
   "cell_type": "code",
   "execution_count": 3,
   "id": "55d4d0c6",
   "metadata": {},
   "outputs": [
    {
     "name": "stdout",
     "output_type": "stream",
     "text": [
      "Most of us have probably heard of this story as this is one of the most popular fairy tales in the world. The story revolves around a duckling who from the moment of his birth has always felt different from his siblings. He was always picked on because he didnâ€™t look like the rest of them. One day, he had enough and ran away from the pond he grew up in. He wandered near and far looking for a family who would accept him. Months passed and seasons changed but everywhere he went, nobody wanted him because he was such an ugly duck. Then one day, he came upon a family of swans. Upon looking at them, he realized that during the months he spent looking for a family to call his own, he had grown into a beautiful swan. Now he finally understood why he never looked like the rest of his siblings because he isnâ€™t a duck but a swan.\n",
      "successfull\n"
     ]
    }
   ],
   "source": [
    "#exeptional handling\n",
    "try:\n",
    "    with open(\"C:/Users/naras/OneDrive/Desktop/story_2.txt\")as story:\n",
    "        nm=story.read()\n",
    "        print(nm)\n",
    "        print(\"successfull\")\n",
    "except FileNotFoundError:\n",
    "    msg='File not exists'\n",
    "    print(msg)"
   ]
  },
  {
   "cell_type": "code",
   "execution_count": 4,
   "id": "f3fd3f1c",
   "metadata": {},
   "outputs": [],
   "source": [
    "from nltk.tokenize import word_tokenize"
   ]
  },
  {
   "cell_type": "code",
   "execution_count": 6,
   "id": "1c35abaa",
   "metadata": {},
   "outputs": [
    {
     "name": "stdout",
     "output_type": "stream",
     "text": [
      "Most of us have probably heard of this story as this is one of the most popular fairy tales in the world. The story revolves around a duckling who from the moment of his birth has always felt different from his siblings. He was always picked on because he didnâ€™t look like the rest of them. One day, he had enough and ran away from the pond he grew up in. He wandered near and far looking for a family who would accept him. Months passed and seasons changed but everywhere he went, nobody wanted him because he was such an ugly duck. Then one day, he came upon a family of swans. Upon looking at them, he realized that during the months he spent looking for a family to call his own, he had grown into a beautiful swan. Now he finally understood why he never looked like the rest of his siblings because he isnâ€™t a duck but a swan.\n"
     ]
    }
   ],
   "source": [
    "#then remove the punctuations in list \n",
    "import string\n",
    "for punc in string.punctuation:\n",
    "    nml=nm.replace(punc,'') \n",
    "print(nm)"
   ]
  },
  {
   "cell_type": "code",
   "execution_count": 8,
   "id": "b1531c86",
   "metadata": {},
   "outputs": [
    {
     "data": {
      "text/plain": [
       "['Most',\n",
       " 'of',\n",
       " 'us',\n",
       " 'have',\n",
       " 'probably',\n",
       " 'heard',\n",
       " 'of',\n",
       " 'this',\n",
       " 'story',\n",
       " 'as',\n",
       " 'this',\n",
       " 'is',\n",
       " 'one',\n",
       " 'of',\n",
       " 'the',\n",
       " 'most',\n",
       " 'popular',\n",
       " 'fairy',\n",
       " 'tales',\n",
       " 'in',\n",
       " 'the',\n",
       " 'world',\n",
       " '.',\n",
       " 'The',\n",
       " 'story',\n",
       " 'revolves',\n",
       " 'around',\n",
       " 'a',\n",
       " 'duckling',\n",
       " 'who',\n",
       " 'from',\n",
       " 'the',\n",
       " 'moment',\n",
       " 'of',\n",
       " 'his',\n",
       " 'birth',\n",
       " 'has',\n",
       " 'always',\n",
       " 'felt',\n",
       " 'different',\n",
       " 'from',\n",
       " 'his',\n",
       " 'siblings',\n",
       " '.',\n",
       " 'He',\n",
       " 'was',\n",
       " 'always',\n",
       " 'picked',\n",
       " 'on',\n",
       " 'because',\n",
       " 'he',\n",
       " 'didnâ€™t',\n",
       " 'look',\n",
       " 'like',\n",
       " 'the',\n",
       " 'rest',\n",
       " 'of',\n",
       " 'them',\n",
       " '.',\n",
       " 'One',\n",
       " 'day',\n",
       " ',',\n",
       " 'he',\n",
       " 'had',\n",
       " 'enough',\n",
       " 'and',\n",
       " 'ran',\n",
       " 'away',\n",
       " 'from',\n",
       " 'the',\n",
       " 'pond',\n",
       " 'he',\n",
       " 'grew',\n",
       " 'up',\n",
       " 'in',\n",
       " '.',\n",
       " 'He',\n",
       " 'wandered',\n",
       " 'near',\n",
       " 'and',\n",
       " 'far',\n",
       " 'looking',\n",
       " 'for',\n",
       " 'a',\n",
       " 'family',\n",
       " 'who',\n",
       " 'would',\n",
       " 'accept',\n",
       " 'him',\n",
       " '.',\n",
       " 'Months',\n",
       " 'passed',\n",
       " 'and',\n",
       " 'seasons',\n",
       " 'changed',\n",
       " 'but',\n",
       " 'everywhere',\n",
       " 'he',\n",
       " 'went',\n",
       " ',',\n",
       " 'nobody',\n",
       " 'wanted',\n",
       " 'him',\n",
       " 'because',\n",
       " 'he',\n",
       " 'was',\n",
       " 'such',\n",
       " 'an',\n",
       " 'ugly',\n",
       " 'duck',\n",
       " '.',\n",
       " 'Then',\n",
       " 'one',\n",
       " 'day',\n",
       " ',',\n",
       " 'he',\n",
       " 'came',\n",
       " 'upon',\n",
       " 'a',\n",
       " 'family',\n",
       " 'of',\n",
       " 'swans',\n",
       " '.',\n",
       " 'Upon',\n",
       " 'looking',\n",
       " 'at',\n",
       " 'them',\n",
       " ',',\n",
       " 'he',\n",
       " 'realized',\n",
       " 'that',\n",
       " 'during',\n",
       " 'the',\n",
       " 'months',\n",
       " 'he',\n",
       " 'spent',\n",
       " 'looking',\n",
       " 'for',\n",
       " 'a',\n",
       " 'family',\n",
       " 'to',\n",
       " 'call',\n",
       " 'his',\n",
       " 'own',\n",
       " ',',\n",
       " 'he',\n",
       " 'had',\n",
       " 'grown',\n",
       " 'into',\n",
       " 'a',\n",
       " 'beautiful',\n",
       " 'swan',\n",
       " '.',\n",
       " 'Now',\n",
       " 'he',\n",
       " 'finally',\n",
       " 'understood',\n",
       " 'why',\n",
       " 'he',\n",
       " 'never',\n",
       " 'looked',\n",
       " 'like',\n",
       " 'the',\n",
       " 'rest',\n",
       " 'of',\n",
       " 'his',\n",
       " 'siblings',\n",
       " 'because',\n",
       " 'he',\n",
       " 'isnâ€™t',\n",
       " 'a',\n",
       " 'duck',\n",
       " 'but',\n",
       " 'a',\n",
       " 'swan',\n",
       " '.']"
      ]
     },
     "execution_count": 8,
     "metadata": {},
     "output_type": "execute_result"
    }
   ],
   "source": [
    "#then make a tokenize\n",
    "word_list=word_tokenize(nml)\n",
    "word_list"
   ]
  },
  {
   "cell_type": "code",
   "execution_count": 9,
   "id": "c3474e16",
   "metadata": {},
   "outputs": [
    {
     "name": "stdout",
     "output_type": "stream",
     "text": [
      "['us', 'probably', 'heard', 'story', 'one', 'popular', 'fairy', 'tales', 'world', '.', 'story', 'revolves', 'around', 'duckling', 'moment', 'birth', 'always', 'felt', 'different', 'siblings', '.', 'always', 'picked', 'didnâ€™t', 'look', 'like', 'rest', '.', 'One', 'day', ',', 'enough', 'ran', 'away', 'pond', 'grew', '.', 'wandered', 'near', 'far', 'looking', 'family', 'would', 'accept', '.', 'Months', 'passed', 'seasons', 'changed', 'everywhere', 'went', ',', 'nobody', 'wanted', 'ugly', 'duck', '.', 'one', 'day', ',', 'came', 'upon', 'family', 'swans', '.', 'Upon', 'looking', ',', 'realized', 'months', 'spent', 'looking', 'family', 'call', ',', 'grown', 'beautiful', 'swan', '.', 'finally', 'understood', 'never', 'looked', 'like', 'rest', 'siblings', 'isnâ€™t', 'duck', 'swan', '.']\n"
     ]
    }
   ],
   "source": [
    "#Removing the stop words\n",
    "from nltk.corpus import stopwords\n",
    "stop_words=set(stopwords.words('english'))\n",
    "clean_words=[]\n",
    "for word in word_list:\n",
    "    if word.lower() not in stop_words:\n",
    "        clean_words.append(word)\n",
    "print(clean_words)"
   ]
  },
  {
   "cell_type": "code",
   "execution_count": 10,
   "id": "90133a8a",
   "metadata": {},
   "outputs": [
    {
     "name": "stdout",
     "output_type": "stream",
     "text": [
      "176\n",
      "90\n"
     ]
    }
   ],
   "source": [
    "print(len(word_list))\n",
    "print(len(clean_words))"
   ]
  },
  {
   "cell_type": "code",
   "execution_count": 11,
   "id": "447891a4",
   "metadata": {},
   "outputs": [],
   "source": [
    "#stemming\n",
    "from nltk.stem.porter import PorterStemmer\n",
    "from nltk.stem.lancaster import LancasterStemmer\n",
    "from nltk.stem.snowball import SnowballStemmer"
   ]
  },
  {
   "cell_type": "code",
   "execution_count": 18,
   "id": "e57b4bbd",
   "metadata": {},
   "outputs": [
    {
     "name": "stdout",
     "output_type": "stream",
     "text": [
      "Stemming with porterStemmer\n",
      "['us', 'probabl', 'heard', 'stori', 'one', 'popular', 'fairi', 'tale', 'world', '.', 'stori', 'revolv', 'around', 'duckl', 'moment', 'birth', 'alway', 'felt', 'differ', 'sibl', '.', 'alway', 'pick', 'didnâ€™t', 'look', 'like', 'rest', '.', 'one', 'day', ',', 'enough', 'ran', 'away', 'pond', 'grew', '.', 'wander', 'near', 'far', 'look', 'famili', 'would', 'accept', '.', 'month', 'pass', 'season', 'chang', 'everywher', 'went', ',', 'nobodi', 'want', 'ugli', 'duck', '.', 'one', 'day', ',', 'came', 'upon', 'famili', 'swan', '.', 'upon', 'look', ',', 'realiz', 'month', 'spent', 'look', 'famili', 'call', ',', 'grown', 'beauti', 'swan', '.', 'final', 'understood', 'never', 'look', 'like', 'rest', 'sibl', 'isnâ€™t', 'duck', 'swan', '.']\n"
     ]
    }
   ],
   "source": [
    "stemmed=[PorterStemmer().stem(w) for w in clean_words]\n",
    "print('Stemming with porterStemmer')\n",
    "print(stemmed)"
   ]
  },
  {
   "cell_type": "code",
   "execution_count": 13,
   "id": "1bac5821",
   "metadata": {},
   "outputs": [
    {
     "name": "stdout",
     "output_type": "stream",
     "text": [
      "Stemming with porterStemmer\n",
      "['us', 'prob', 'heard', 'story', 'on', 'popul', 'fairy', 'tal', 'world', '.', 'story', 'revolv', 'around', 'duckl', 'mom', 'bir', 'alway', 'felt', 'diff', 'sibl', '.', 'alway', 'pick', 'didnâ€™t', 'look', 'lik', 'rest', '.', 'on', 'day', ',', 'enough', 'ran', 'away', 'pond', 'grew', '.', 'wand', 'near', 'far', 'look', 'famy', 'would', 'acceiv', '.', 'month', 'pass', 'season', 'chang', 'everywh', 'went', ',', 'nobody', 'want', 'ug', 'duck', '.', 'on', 'day', ',', 'cam', 'upon', 'famy', 'swan', '.', 'upon', 'look', ',', 'real', 'month', 'spent', 'look', 'famy', 'cal', ',', 'grown', 'beauty', 'swan', '.', 'fin', 'understood', 'nev', 'look', 'lik', 'rest', 'sibl', 'isnâ€™t', 'duck', 'swan', '.']\n"
     ]
    }
   ],
   "source": [
    "stemmed=[LancasterStemmer().stem(w) for w in clean_words]\n",
    "print('Stemming with porterStemmer')\n",
    "print(stemmed)"
   ]
  },
  {
   "cell_type": "code",
   "execution_count": 14,
   "id": "e9ccb4f4",
   "metadata": {},
   "outputs": [
    {
     "name": "stdout",
     "output_type": "stream",
     "text": [
      "Stemming with porterStemmer\n",
      "['us', 'probabl', 'heard', 'stori', 'one', 'popular', 'fairi', 'tale', 'world', '.', 'stori', 'revolv', 'around', 'duckl', 'moment', 'birth', 'alway', 'felt', 'differ', 'sibl', '.', 'alway', 'pick', 'didnâ€™t', 'look', 'like', 'rest', '.', 'one', 'day', ',', 'enough', 'ran', 'away', 'pond', 'grew', '.', 'wander', 'near', 'far', 'look', 'famili', 'would', 'accept', '.', 'month', 'pass', 'season', 'chang', 'everywher', 'went', ',', 'nobodi', 'want', 'ugli', 'duck', '.', 'one', 'day', ',', 'came', 'upon', 'famili', 'swan', '.', 'upon', 'look', ',', 'realiz', 'month', 'spent', 'look', 'famili', 'call', ',', 'grown', 'beauti', 'swan', '.', 'final', 'understood', 'never', 'look', 'like', 'rest', 'sibl', 'isnâ€™t', 'duck', 'swan', '.']\n"
     ]
    }
   ],
   "source": [
    "stemmed=[SnowballStemmer('english').stem(w) for w in clean_words]\n",
    "print('Stemming with porterStemmer')\n",
    "print(stemmed)"
   ]
  },
  {
   "cell_type": "code",
   "execution_count": 15,
   "id": "8471db86",
   "metadata": {},
   "outputs": [
    {
     "name": "stderr",
     "output_type": "stream",
     "text": [
      "[nltk_data] Error loading wordnet: <urlopen error [WinError 10054] An\n",
      "[nltk_data]     existing connection was forcibly closed by the remote\n",
      "[nltk_data]     host>\n"
     ]
    },
    {
     "data": {
      "text/plain": [
       "False"
      ]
     },
     "execution_count": 15,
     "metadata": {},
     "output_type": "execute_result"
    }
   ],
   "source": [
    "import nltk \n",
    "nltk.download('wordnet')"
   ]
  },
  {
   "cell_type": "code",
   "execution_count": 16,
   "id": "686f83a9",
   "metadata": {},
   "outputs": [
    {
     "name": "stdout",
     "output_type": "stream",
     "text": [
      "['u', 'probably', 'heard', 'story', 'one', 'popular', 'fairy', 'tale', 'world', '.', 'story', 'revolves', 'around', 'duckling', 'moment', 'birth', 'always', 'felt', 'different', 'sibling', '.', 'always', 'picked', 'didnâ€™t', 'look', 'like', 'rest', '.', 'One', 'day', ',', 'enough', 'ran', 'away', 'pond', 'grew', '.', 'wandered', 'near', 'far', 'looking', 'family', 'would', 'accept', '.', 'Months', 'passed', 'season', 'changed', 'everywhere', 'went', ',', 'nobody', 'wanted', 'ugly', 'duck', '.', 'one', 'day', ',', 'came', 'upon', 'family', 'swan', '.', 'Upon', 'looking', ',', 'realized', 'month', 'spent', 'looking', 'family', 'call', ',', 'grown', 'beautiful', 'swan', '.', 'finally', 'understood', 'never', 'looked', 'like', 'rest', 'sibling', 'isnâ€™t', 'duck', 'swan', '.']\n"
     ]
    }
   ],
   "source": [
    "from nltk.stem.wordnet import WordNetLemmatizer\n",
    "lemmed=[WordNetLemmatizer().lemmatize(w) for w in clean_words]\n",
    "print(lemmed)"
   ]
  },
  {
   "cell_type": "code",
   "execution_count": 17,
   "id": "303585f1",
   "metadata": {},
   "outputs": [
    {
     "data": {
      "text/plain": [
       "[('us', 'PRP'),\n",
       " ('probably', 'RB'),\n",
       " ('heard', 'VBD'),\n",
       " ('story', 'NN'),\n",
       " ('one', 'CD'),\n",
       " ('popular', 'JJ'),\n",
       " ('fairy', 'NN'),\n",
       " ('tales', 'NNS'),\n",
       " ('world', 'NN'),\n",
       " ('.', '.'),\n",
       " ('story', 'NN'),\n",
       " ('revolves', 'VBZ'),\n",
       " ('around', 'RP'),\n",
       " ('duckling', 'VBG'),\n",
       " ('moment', 'NN'),\n",
       " ('birth', 'NN'),\n",
       " ('always', 'RB'),\n",
       " ('felt', 'VBD'),\n",
       " ('different', 'JJ'),\n",
       " ('siblings', 'NNS'),\n",
       " ('.', '.'),\n",
       " ('always', 'RB'),\n",
       " ('picked', 'VBD'),\n",
       " ('didnâ€™t', 'JJ'),\n",
       " ('look', 'NN'),\n",
       " ('like', 'IN'),\n",
       " ('rest', 'NN'),\n",
       " ('.', '.'),\n",
       " ('One', 'CD'),\n",
       " ('day', 'NN'),\n",
       " (',', ','),\n",
       " ('enough', 'RB'),\n",
       " ('ran', 'VBD'),\n",
       " ('away', 'RB'),\n",
       " ('pond', 'JJ'),\n",
       " ('grew', 'VBD'),\n",
       " ('.', '.'),\n",
       " ('wandered', 'VBN'),\n",
       " ('near', 'IN'),\n",
       " ('far', 'RB'),\n",
       " ('looking', 'VBG'),\n",
       " ('family', 'NN'),\n",
       " ('would', 'MD'),\n",
       " ('accept', 'VB'),\n",
       " ('.', '.'),\n",
       " ('Months', 'NNS'),\n",
       " ('passed', 'VBD'),\n",
       " ('seasons', 'NNS'),\n",
       " ('changed', 'VBD'),\n",
       " ('everywhere', 'RB'),\n",
       " ('went', 'VBD'),\n",
       " (',', ','),\n",
       " ('nobody', 'NN'),\n",
       " ('wanted', 'VBD'),\n",
       " ('ugly', 'RB'),\n",
       " ('duck', 'VBN'),\n",
       " ('.', '.'),\n",
       " ('one', 'CD'),\n",
       " ('day', 'NN'),\n",
       " (',', ','),\n",
       " ('came', 'VBD'),\n",
       " ('upon', 'IN'),\n",
       " ('family', 'NN'),\n",
       " ('swans', 'NNS'),\n",
       " ('.', '.'),\n",
       " ('Upon', 'IN'),\n",
       " ('looking', 'VBG'),\n",
       " (',', ','),\n",
       " ('realized', 'JJ'),\n",
       " ('months', 'NNS'),\n",
       " ('spent', 'VBD'),\n",
       " ('looking', 'VBG'),\n",
       " ('family', 'NN'),\n",
       " ('call', 'NN'),\n",
       " (',', ','),\n",
       " ('grown', 'JJ'),\n",
       " ('beautiful', 'JJ'),\n",
       " ('swan', 'NN'),\n",
       " ('.', '.'),\n",
       " ('finally', 'RB'),\n",
       " ('understood', 'JJ'),\n",
       " ('never', 'RB'),\n",
       " ('looked', 'VBD'),\n",
       " ('like', 'IN'),\n",
       " ('rest', 'NN'),\n",
       " ('siblings', 'NNS'),\n",
       " ('isnâ€™t', 'VBP'),\n",
       " ('duck', 'NN'),\n",
       " ('swan', 'NN'),\n",
       " ('.', '.')]"
      ]
     },
     "execution_count": 17,
     "metadata": {},
     "output_type": "execute_result"
    }
   ],
   "source": [
    "#parts of speech tagging\n",
    "import nltk\n",
    "nltk.pos_tag(clean_words)"
   ]
  },
  {
   "cell_type": "code",
   "execution_count": null,
   "id": "b199927e",
   "metadata": {},
   "outputs": [],
   "source": []
  }
 ],
 "metadata": {
  "kernelspec": {
   "display_name": "Python 3 (ipykernel)",
   "language": "python",
   "name": "python3"
  },
  "language_info": {
   "codemirror_mode": {
    "name": "ipython",
    "version": 3
   },
   "file_extension": ".py",
   "mimetype": "text/x-python",
   "name": "python",
   "nbconvert_exporter": "python",
   "pygments_lexer": "ipython3",
   "version": "3.11.4"
  }
 },
 "nbformat": 4,
 "nbformat_minor": 5
}
