{
 "cells": [
  {
   "cell_type": "code",
   "execution_count": null,
   "id": "0944f81c",
   "metadata": {},
   "outputs": [],
   "source": [
    "1) import command for: importing libraries and\n",
    "why we importing :you can import pre-existing functions and efficiently expand the functionality of your code\n",
    "2)load command : load the csv file(bre_astcancer) for dataset \n",
    "3)head command : it will desplay or view the top first 5 rows of a dataset\n",
    "4)max command : it wil display largest number or value in the dataset\n",
    "5)min command :it will display lowest value in the dataset\n",
    "6)quantile command : it will display what you gave data_name in there quantile value\n",
    "7)tail command : it will display or view bottom of the first 5 rows of a dataset\n",
    "8)info command : we can view the  whole dataset information \n",
    "9)dtypes command : it will display what type of  data in  the dataset\n",
    "10)find the target variables : indipendent values from dataset\n",
    "11)droping target variables : target values taken for dro\n",
    "12)data discribing using dot(.)T :to find the given data variable value is mean or median or how much percentage it has taken\n",
    "13)to find the null vaues commad : it means missing value or none or variable is uninitialized\n",
    "14)to find null values : traget null vaues(dependent)data \n",
    "15)histoplot command : to summarize the discrete the data\n",
    "16)pairplot command : to understand the best set of features to explain a relationship between two variables or to form the most separated clusters\n",
    "17)scatter plot command : analysing for bivariate or to explore the relationship between two variables\n",
    "18)import data : to do split data thats way imported sklearn.model\n",
    "19)splited the data\n",
    "20)find the x_train shape and y_train shape : one data have in there how many rows and colomns is there for  that using this command\n",
    "21)importing LogisticRegression : ogistic regression is used statistical method for binary classification,\n",
    "    which means it is used to predict a binary outcome (1 / 0, Yes / No, True / False)...\n",
    "22)train the data : for build the model\n",
    "23)import confution matrix : Performance Evaluation :evaluate the performance of classification algorithm \n",
    "        and Calculation of Metrics,Identification of Errors\n",
    "24)preding commmand : we use confution matrix for given data to explore or predect the value\n",
    "25)we got confution matrix values\n",
    "26)dicition tree : tree is nothing but it will display step by step like true or flase or yes or Handling Mixed Data Types\n",
    "27)entropy is used to find the best feature to split the data\n",
    "28)train the model : for build model\n",
    "29)predicted the values from data \n",
    "30)plot the tree : to analyse the tree data so we used tree plot\n",
    "31)heatmap : i am using heatmap for to  data visualization data and colors in two dimensions data analyese \n",
    "32)taken features and target variables : feature is dependent value and target is indipendent value \n",
    "33)i took new variable new variable x and y in there  import..\n",
    "34)find the x and y value using scatter plot to analy the x and y data"
   ]
  }
 ],
 "metadata": {
  "kernelspec": {
   "display_name": "Python 3 (ipykernel)",
   "language": "python",
   "name": "python3"
  },
  "language_info": {
   "codemirror_mode": {
    "name": "ipython",
    "version": 3
   },
   "file_extension": ".py",
   "mimetype": "text/x-python",
   "name": "python",
   "nbconvert_exporter": "python",
   "pygments_lexer": "ipython3",
   "version": "3.11.4"
  }
 },
 "nbformat": 4,
 "nbformat_minor": 5
}
