{
 "cells": [
  {
   "cell_type": "code",
   "execution_count": 1,
   "id": "e3fe7947",
   "metadata": {},
   "outputs": [],
   "source": [
    "import nltk\n",
    "from nltk import word_tokenize, sent_tokenize "
   ]
  },
  {
   "cell_type": "code",
   "execution_count": 16,
   "id": "e6d509b5",
   "metadata": {},
   "outputs": [
    {
     "name": "stdout",
     "output_type": "stream",
     "text": [
      "A narrative about people and events, usually including an interesting plot, is a story. A story can be fictional or true, and it can be written, read aloud, or made up on the spot.\n"
     ]
    }
   ],
   "source": [
    "try:\n",
    "    with open(\"C:/Users/naras/OneDrive/Desktop/test.1.txt\") as file_obj:\n",
    "        contents=file_obj.read()\n",
    "        print(contents)\n",
    "except FileNotFoundError:\n",
    "    msg=\"File does not exist\"\n",
    "    print(msg)"
   ]
  },
  {
   "cell_type": "code",
   "execution_count": 17,
   "id": "0b09f034",
   "metadata": {},
   "outputs": [
    {
     "name": "stdout",
     "output_type": "stream",
     "text": [
      "['A narrative about people and events, usually including an interesting plot, is a story.', 'A story can be fictional or true, and it can be written, read aloud, or made up on the spot.']\n"
     ]
    }
   ],
   "source": [
    "#segmentation\n",
    "seg=sent_tokenize(contents)\n",
    "print(seg)"
   ]
  },
  {
   "cell_type": "code",
   "execution_count": 19,
   "id": "f56d4d63",
   "metadata": {},
   "outputs": [
    {
     "data": {
      "text/plain": [
       "list"
      ]
     },
     "execution_count": 19,
     "metadata": {},
     "output_type": "execute_result"
    }
   ],
   "source": [
    "type(seg)"
   ]
  },
  {
   "cell_type": "code",
   "execution_count": 21,
   "id": "30521b08",
   "metadata": {},
   "outputs": [
    {
     "data": {
      "text/plain": [
       "2"
      ]
     },
     "execution_count": 21,
     "metadata": {},
     "output_type": "execute_result"
    }
   ],
   "source": [
    "len(seg)"
   ]
  },
  {
   "cell_type": "code",
   "execution_count": 31,
   "id": "7c42523f",
   "metadata": {},
   "outputs": [
    {
     "data": {
      "text/plain": [
       "['A',\n",
       " 'narrative',\n",
       " 'about',\n",
       " 'people',\n",
       " 'and',\n",
       " 'events',\n",
       " ',',\n",
       " 'usually',\n",
       " 'including',\n",
       " 'an',\n",
       " 'interesting',\n",
       " 'plot',\n",
       " ',',\n",
       " 'is',\n",
       " 'a',\n",
       " 'story',\n",
       " '.',\n",
       " 'A',\n",
       " 'story',\n",
       " 'can',\n",
       " 'be',\n",
       " 'fictional',\n",
       " 'or',\n",
       " 'true',\n",
       " ',',\n",
       " 'and',\n",
       " 'it',\n",
       " 'can',\n",
       " 'be',\n",
       " 'written',\n",
       " ',',\n",
       " 'read',\n",
       " 'aloud',\n",
       " ',',\n",
       " 'or',\n",
       " 'made',\n",
       " 'up',\n",
       " 'on',\n",
       " 'the',\n",
       " 'spot',\n",
       " '.']"
      ]
     },
     "execution_count": 31,
     "metadata": {},
     "output_type": "execute_result"
    }
   ],
   "source": [
    "word=word_tokenize(contents)\n",
    "word"
   ]
  },
  {
   "cell_type": "code",
   "execution_count": 24,
   "id": "d7208760",
   "metadata": {},
   "outputs": [
    {
     "name": "stdout",
     "output_type": "stream",
     "text": [
      "Story writing refers to the method of writing in which the writer narrates a series of events that has led to a problem, the progression of the same and the end result that has led to the current situation of the characters in the story.\n"
     ]
    }
   ],
   "source": [
    "try:\n",
    "    with open(\"C:/Users/naras/OneDrive/Desktop/test.2.txt\")as test:\n",
    "        cunt=test.read()\n",
    "        print(cunt)\n",
    "except FileNotFoundError:\n",
    "    msg=\"File does not exist\"\n",
    "    print(msg)"
   ]
  },
  {
   "cell_type": "code",
   "execution_count": 25,
   "id": "f01c2655",
   "metadata": {},
   "outputs": [
    {
     "name": "stdout",
     "output_type": "stream",
     "text": [
      "['Story writing refers to the method of writing in which the writer narrates a series of events that has led to a problem, the progression of the same and the end result that has led to the current situation of the characters in the story.']\n"
     ]
    }
   ],
   "source": [
    "#segmentation\n",
    "seg=sent_tokenize(cunt)\n",
    "print(seg)"
   ]
  },
  {
   "cell_type": "code",
   "execution_count": 27,
   "id": "f0cf767b",
   "metadata": {},
   "outputs": [
    {
     "data": {
      "text/plain": [
       "1"
      ]
     },
     "execution_count": 27,
     "metadata": {},
     "output_type": "execute_result"
    }
   ],
   "source": [
    "len(seg)"
   ]
  },
  {
   "cell_type": "code",
   "execution_count": 28,
   "id": "88014576",
   "metadata": {},
   "outputs": [
    {
     "data": {
      "text/plain": [
       "list"
      ]
     },
     "execution_count": 28,
     "metadata": {},
     "output_type": "execute_result"
    }
   ],
   "source": [
    "type(seg)"
   ]
  },
  {
   "cell_type": "code",
   "execution_count": 30,
   "id": "3f01f5f7",
   "metadata": {},
   "outputs": [
    {
     "data": {
      "text/plain": [
       "['Story',\n",
       " 'writing',\n",
       " 'refers',\n",
       " 'to',\n",
       " 'the',\n",
       " 'method',\n",
       " 'of',\n",
       " 'writing',\n",
       " 'in',\n",
       " 'which',\n",
       " 'the',\n",
       " 'writer',\n",
       " 'narrates',\n",
       " 'a',\n",
       " 'series',\n",
       " 'of',\n",
       " 'events',\n",
       " 'that',\n",
       " 'has',\n",
       " 'led',\n",
       " 'to',\n",
       " 'a',\n",
       " 'problem',\n",
       " ',',\n",
       " 'the',\n",
       " 'progression',\n",
       " 'of',\n",
       " 'the',\n",
       " 'same',\n",
       " 'and',\n",
       " 'the',\n",
       " 'end',\n",
       " 'result',\n",
       " 'that',\n",
       " 'has',\n",
       " 'led',\n",
       " 'to',\n",
       " 'the',\n",
       " 'current',\n",
       " 'situation',\n",
       " 'of',\n",
       " 'the',\n",
       " 'characters',\n",
       " 'in',\n",
       " 'the',\n",
       " 'story',\n",
       " '.']"
      ]
     },
     "execution_count": 30,
     "metadata": {},
     "output_type": "execute_result"
    }
   ],
   "source": [
    "word=word_tokenize(cunt)\n",
    "word"
   ]
  },
  {
   "cell_type": "code",
   "execution_count": 32,
   "id": "9ab5b4db",
   "metadata": {},
   "outputs": [
    {
     "data": {
      "text/plain": [
       "41"
      ]
     },
     "execution_count": 32,
     "metadata": {},
     "output_type": "execute_result"
    }
   ],
   "source": [
    "len(word)"
   ]
  },
  {
   "cell_type": "code",
   "execution_count": null,
   "id": "be829b7a",
   "metadata": {},
   "outputs": [],
   "source": []
  }
 ],
 "metadata": {
  "kernelspec": {
   "display_name": "Python 3 (ipykernel)",
   "language": "python",
   "name": "python3"
  },
  "language_info": {
   "codemirror_mode": {
    "name": "ipython",
    "version": 3
   },
   "file_extension": ".py",
   "mimetype": "text/x-python",
   "name": "python",
   "nbconvert_exporter": "python",
   "pygments_lexer": "ipython3",
   "version": "3.11.4"
  }
 },
 "nbformat": 4,
 "nbformat_minor": 5
}
